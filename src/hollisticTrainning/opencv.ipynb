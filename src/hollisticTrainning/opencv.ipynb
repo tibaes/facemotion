{
 "cells": [
  {
   "cell_type": "code",
   "execution_count": 2,
   "metadata": {
    "collapsed": false
   },
   "outputs": [
    {
     "name": "stderr",
     "output_type": "stream",
     "text": [
      "INFO: Cloning Cxx from https://github.com/Keno/Cxx.jl.git\n",
      "INFO: Computing changes...\n"
     ]
    }
   ],
   "source": [
    "Pkg.clone(\"https://github.com/Keno/Cxx.jl.git\")"
   ]
  },
  {
   "cell_type": "code",
   "execution_count": 3,
   "metadata": {
    "collapsed": false
   },
   "outputs": [
    {
     "name": "stderr",
     "output_type": "stream",
     "text": [
      "INFO: Building Cxx\n"
     ]
    },
    {
     "name": "stdout",
     "output_type": "stream",
     "text": [
      "Tuning for julia installation at: /usr/bin"
     ]
    },
    {
     "name": "stderr",
     "output_type": "stream",
     "text": [
      "BuildBootstrap.Makefile:2: /usr/bin/../../deps/Versions.make: No such file or directory\n",
      "BuildBootstrap.Makefile:3: /usr/bin/../../Make.inc: No such file or directory\n",
      "make: *** No rule to make target '/usr/bin/../../Make.inc'.  Stop.\n"
     ]
    },
    {
     "name": "stdout",
     "output_type": "stream",
     "text": [
      "\n"
     ]
    },
    {
     "name": "stderr",
     "output_type": "stream",
     "text": [
      "=================================[ ERROR: Cxx ]=================================\n",
      "\n",
      "LoadError: failed process: Process(`make -f BuildBootstrap.Makefile JULIA_HOME=/usr/bin`, ProcessExited(2)) [2]\n",
      "while loading /root/.julia/v0.4/Cxx/deps/build.jl, in expression starting on line 16\n",
      "\n",
      "================================================================================\n",
      "\n",
      "================================[ BUILD ERRORS ]================================\n",
      "\n",
      "WARNING: Cxx had build errors.\n",
      "\n",
      " - packages with build errors remain installed in /root/.julia/v0.4\n",
      " - build the package(s) and all dependencies with `Pkg.build(\"Cxx\")`\n",
      " - build a single package by running its `deps/build.jl` script\n",
      "\n",
      "================================================================================\n"
     ]
    }
   ],
   "source": [
    "Pkg.build(\"Cxx\")"
   ]
  },
  {
   "cell_type": "code",
   "execution_count": null,
   "metadata": {
    "collapsed": true
   },
   "outputs": [],
   "source": []
  }
 ],
 "metadata": {
  "kernelspec": {
   "display_name": "Julia 0.4.1",
   "language": "julia",
   "name": "julia-0.4"
  },
  "language_info": {
   "file_extension": ".jl",
   "mimetype": "application/julia",
   "name": "julia",
   "version": "0.4.1"
  }
 },
 "nbformat": 4,
 "nbformat_minor": 0
}
