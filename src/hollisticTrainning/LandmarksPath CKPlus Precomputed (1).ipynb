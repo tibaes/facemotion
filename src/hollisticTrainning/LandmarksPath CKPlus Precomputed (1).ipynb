{
 "cells": [
  {
   "cell_type": "markdown",
   "metadata": {},
   "source": [
    "# Landmarks Path Computation\n",
    "In this notebook, we train emotion models using the CK+ dataset.\n",
    "- Read landmarks files and convert it to a normalized space.\n",
    "- TODO: PCA to avoid unnecessary landmarks\n",
    "- Based on the normalized landmarks, compute its patch regresssion.\n",
    "- "
   ]
  },
  {
   "cell_type": "markdown",
   "metadata": {},
   "source": [
    "## Function to read and pre-process features from a file\n",
    "The dataset contains landmarks computed using AAM. These landmarks are stored as a sequence of (x \\n y \\n) floats dots. Each frame has its own landmark file. To achieve a normalized feature set, it is set the nose as the reference point and the distance between the eyes as the reference size. For each landmark, the final feature is its distance to the reference point divided by the reference size."
   ]
  },
  {
   "cell_type": "code",
   "execution_count": 160,
   "metadata": {
    "collapsed": false
   },
   "outputs": [],
   "source": [
    "using Distances\n",
    "function readLandmarksFile(filename)\n",
    "    # println(\"Getting features from: \", filename)\n",
    "    \n",
    "    # Database parser\n",
    "    dots = map((x)->parse(x), split(readall(filename), ['\\n', ' '], limit=0, keep=false));\n",
    "    getLandmarkPoint(id) = [dots[id*2-1], dots[id*2]];\n",
    "    \n",
    "    # Reference Point: nose\n",
    "    referenceID = 34\n",
    "    referencePoint = getLandmarkPoint(referenceID)\n",
    "    \n",
    "    # Reference Size: distance between eyes\n",
    "    referenceSize = evaluate(Euclidean(), getLandmarkPoint(40), getLandmarkPoint(43))\n",
    "    if referenceSize < 1.0 error(\"Distance between eyes less than one.\") end\n",
    "    \n",
    "    # Normalized vector\n",
    "    normalizedVector = []\n",
    "    for id = 1:round(Int,(length(dots) / 2))\n",
    "        if id == referenceID; continue end\n",
    "        append!(normalizedVector, (referencePoint - getLandmarkPoint(id)) / referenceSize)\n",
    "    end\n",
    "    \n",
    "    return normalizedVector\n",
    "end;"
   ]
  },
  {
   "cell_type": "markdown",
   "metadata": {},
   "source": [
    "## Function to perform patch regression over the landmarks\n",
    "Using the above function, all the landmarks from a video sequence are read and normalized. Then, for each landmark trajectory, it is computed its patch regression. The regression uses a third order polinomial function: a + bx + cx^2 + dx^3. The resulting vector contains the parameters [x0,xt,a,b,c,d] for each landmark patch."
   ]
  },
  {
   "cell_type": "code",
   "execution_count": 161,
   "metadata": {
    "collapsed": false
   },
   "outputs": [],
   "source": [
    "# returns patch_xy[file][landmark*2]\n",
    "function getPatchFeatures(dir)\n",
    "    landmarks4frame = []\n",
    "    for f = readdir(\"$dir\")\n",
    "        push!(landmarks4frame, readLandmarksFile(\"$dir/$f\"))\n",
    "    end\n",
    "    return landmarks4frame\n",
    "end;"
   ]
  },
  {
   "cell_type": "code",
   "execution_count": 162,
   "metadata": {
    "collapsed": false
   },
   "outputs": [],
   "source": [
    "# returns the (x y) patch for a given landmark\n",
    "function splitXY(patch, landmark)\n",
    "    x, y = Float64[], Float64[]\n",
    "    for file = 1:round(Int, length(patch))\n",
    "        push!(x, patch[file][landmark*2-1])\n",
    "        push!(y, patch[file][landmark*2])\n",
    "    end\n",
    "    return x, y\n",
    "end;"
   ]
  },
  {
   "cell_type": "code",
   "execution_count": 163,
   "metadata": {
    "collapsed": false
   },
   "outputs": [],
   "source": [
    "# return abcd (cubic) params for a given (x, y) patch\n",
    "using LsqFit\n",
    "function cubicRegression(x, y)\n",
    "    model(x, p) = p[1] + p[2] * x + p[3] * x .^ 2 + p[4] * x .^ 3;\n",
    "    fit = curve_fit(model, x, y, [0.,0.,0.,0.]);\n",
    "    return fit.param\n",
    "end;"
   ]
  },
  {
   "cell_type": "code",
   "execution_count": 164,
   "metadata": {
    "collapsed": false
   },
   "outputs": [],
   "source": [
    "using Gadfly\n",
    "function drawCubicCurve(x, y, param, title=\"no title\")\n",
    "    plot(layer(x=x, y=y, Geom.point, order=1),\n",
    "         layer((x)->param[1] + param[2] * x + param[3] * x .^ 2 + param[4] * x .^ 3, minimum(x), maximum(x)),\n",
    "         Guide.title(title))\n",
    "end;"
   ]
  },
  {
   "cell_type": "code",
   "execution_count": 200,
   "metadata": {
    "collapsed": false
   },
   "outputs": [],
   "source": [
    "# performs regression for each landmark on a video clip\n",
    "# returns [x0, xt, a, b, c, d] * lenght(landmarks), i.e. SVM ready\n",
    "function landmarksRegressionParams(dir, debug=false)\n",
    "    abcd = []\n",
    "    patch = getPatchFeatures(dir)\n",
    "    for landmark = 1:floor(Int, length(patch[1]) / 2)\n",
    "        x, y = splitXY(patch, landmark)\n",
    "        \n",
    "        if debug \n",
    "            println(\"\\n---\\n $landmark\")\n",
    "            println(\"\\n x: $(size(x))\")\n",
    "            show(x)\n",
    "            println(\"\\n y: $(size(y))\")\n",
    "            show(y)    \n",
    "        end\n",
    "        \n",
    "        p = cubicRegression(x, y)\n",
    "        push!(abcd, minimum(x))\n",
    "        push!(abcd, maximum(x))\n",
    "        append!(abcd, p)\n",
    "        # if debug display(drawCubicCurve(x, y, p, \"landmark: $landmark\")) end\n",
    "    end\n",
    "    return abcd\n",
    "end;"
   ]
  },
  {
   "cell_type": "code",
   "execution_count": null,
   "metadata": {
    "collapsed": false,
    "scrolled": false
   },
   "outputs": [],
   "source": [
    "p = landmarksRegressionParams(\"/home/data/ckplus/Landmarks/S100/001\");\n",
    "# dir = \"/home/data/ckplus/Landmarks/$person/$shot\""
   ]
  },
  {
   "cell_type": "code",
   "execution_count": null,
   "metadata": {
    "collapsed": false
   },
   "outputs": [],
   "source": [
    "using Gadfly\n",
    "function drawLandmarksCurves(param)\n",
    "    layers = Array{Gadfly.Layer,1}[]\n",
    "    for i in 1:floor(Int, length(param) / 6)\n",
    "        x0, xt, a, b, c, d = param[i*6-5], param[i*6-4], param[i*6-3], param[i*6-2], param[i*6-1], param[i*6]\n",
    "        push!(layers, layer((x)->a+b*x+c*x.^2+d*x.^3, x0, xt))\n",
    "    end\n",
    "    # TODO - a not so hardcoded revision\n",
    "    plot( layers[1], layers[2], layers[3], layers[4], layers[5], layers[6], layers[7], layers[8], layers[9], layers[10], layers[11], layers[12], layers[13], layers[14], layers[15], layers[16], layers[17], layers[18], layers[19], layers[20], layers[21], layers[22], layers[23], layers[24], layers[25], layers[26], layers[27], layers[28], layers[29], layers[30], layers[31], layers[32], layers[33], layers[34], layers[35], layers[36], layers[37], layers[38], layers[39], layers[40], layers[41], layers[42], layers[43], layers[44], layers[45], layers[46], layers[47], layers[48], layers[49], layers[50], layers[51], layers[52], layers[53], layers[54], layers[55], layers[56], layers[57], layers[58], layers[59], layers[60], layers[61], layers[62], layers[63], layers[64], layers[65], layers[66], layers[67], Guide.title(\"Facial Landmarks Patchs\"))\n",
    "end;"
   ]
  },
  {
   "cell_type": "code",
   "execution_count": null,
   "metadata": {
    "collapsed": false
   },
   "outputs": [],
   "source": [
    "drawLandmarksCurves(p)"
   ]
  },
  {
   "cell_type": "markdown",
   "metadata": {},
   "source": [
    "# Function to iterate over the CK+ dataset\n",
    "For each sample, read the landmarks and the emotion result files. Using the above functions, the landmarks are transformed to an array of regression parameters. To perform the SVM trainning, the trainning matrix is composed by the regression parameters, where each row represent a sample video. In the same manner, the result matrix (for trainning) is composed by the emotion ID for the respective sample in the trainning matrix. So, for SVM trainning there are two matrixes, MTrainning: samples x (landmarks * regression_params), MTResults: samples x 1."
   ]
  },
  {
   "cell_type": "code",
   "execution_count": 166,
   "metadata": {
    "collapsed": false
   },
   "outputs": [
    {
     "data": {
      "text/plain": [
       "1-element Array{Any,1}:\n",
       " 3"
      ]
     },
     "execution_count": 166,
     "metadata": {},
     "output_type": "execute_result"
    }
   ],
   "source": [
    "# read the sample file containing Emotion or FACS codes\n",
    "function readResultFile(dir)\n",
    "    results = []\n",
    "    for a in readdir(dir)\n",
    "        filename = \"$dir/$a\"\n",
    "        append!(results, map((x)->convert(Int, parse(x)), split(readall(filename), ['\\n', ' '], limit=0, keep=false)))\n",
    "    end\n",
    "    return(results)\n",
    "end;\n",
    "readResultFile(\"/home/data/ckplus/Emotion/S005/001\")"
   ]
  },
  {
   "cell_type": "code",
   "execution_count": 190,
   "metadata": {
    "collapsed": false
   },
   "outputs": [
    {
     "name": "stdout",
     "output_type": "stream",
     "text": [
      "/home/data/ckplus/Landmarks/S005/001\n"
     ]
    },
    {
     "name": "stderr",
     "output_type": "stream",
     "text": [
      "WARNING: Problem solving for delta_x: predicted residual increase.\n",
      "0.024128534811045887 (predicted_residual) >\n",
      "0.023175094108342526 (residual) + 3.469446951953614e-18 (eps)\n"
     ]
    },
    {
     "name": "stdout",
     "output_type": "stream",
     "text": [
      "/home/data/ckplus/Landmarks/S010/001\n"
     ]
    },
    {
     "name": "stderr",
     "output_type": "stream",
     "text": [
      "WARNING: Problem solving for delta_x: predicted residual increase.\n",
      "0.023136684282598047 (predicted_residual) >\n",
      "0.023136356918004523 (residual) + 3.469446951953614e-18 (eps)\n",
      "WARNING: Problem solving for delta_x: predicted residual increase.\n",
      "0.03560427176639378 (predicted_residual) >\n",
      "0.035272337580467855 (residual) + 6.938893903907228e-18 (eps)\n",
      "WARNING: Problem solving for delta_x: predicted residual increase.\n",
      "0.03525545868207217 (predicted_residual) >\n",
      "0.03520573728277043 (residual) + 6.938893903907228e-18 (eps)\n",
      "WARNING: Problem solving for delta_x: predicted residual increase.\n",
      "0.008916050423644146 (predicted_residual) >\n",
      "0.006304918925433242 (residual) + 1.734723475976807e-18 (eps)\n"
     ]
    },
    {
     "name": "stdout",
     "output_type": "stream",
     "text": [
      "2 Failed to perform landmark regression on /home/data/ckplus/Landmarks/S010/001\n",
      "/home/data/ckplus/Landmarks/S010/002\n",
      "/home/data/ckplus/Landmarks/S010/003\n"
     ]
    },
    {
     "name": "stderr",
     "output_type": "stream",
     "text": [
      "WARNING: Problem solving for delta_x: predicted residual increase.\n",
      "0.00013743956508164825 (predicted_residual) >\n",
      "0.0001363609285362702 (residual) + 2.710505431213761e-20 (eps)\n",
      "WARNING: Problem solving for delta_x: predicted residual increase.\n",
      "0.0001390276926636207 (predicted_residual) >\n",
      "0.00013666117198592713 (residual) + 2.710505431213761e-20 (eps)\n",
      "WARNING: Problem solving for delta_x: predicted residual increase.\n",
      "0.00022338284059070733 (predicted_residual) >\n",
      "0.00022090922661087284 (residual) + 2.710505431213761e-20 (eps)\n",
      "WARNING: Problem solving for delta_x: predicted residual increase.\n",
      "0.0002201705845372338 (predicted_residual) >\n",
      "0.00022016713092219746 (residual) + 2.710505431213761e-20 (eps)\n",
      "WARNING: Problem solving for delta_x: predicted residual increase.\n",
      "0.00022017088254095793 (predicted_residual) >\n",
      "0.00022016855972893589 (residual) + 2.710505431213761e-20 (eps)\n",
      "WARNING: Problem solving for delta_x: predicted residual increase.\n",
      "0.0002201670154172418 (predicted_residual) >\n",
      "0.00022016653371512398 (residual) + 2.710505431213761e-20 (eps)\n",
      "WARNING: Problem solving for delta_x: predicted residual increase.\n",
      "0.000471812916442793 (predicted_residual) >\n",
      "0.0004393896062444279 (residual) + 5.421010862427522e-20 (eps)\n",
      "WARNING: Problem solving for delta_x: predicted residual increase.\n",
      "0.00044551929765171617 (predicted_residual) >\n",
      "0.00044099394062964425 (residual) + 5.421010862427522e-20 (eps)\n",
      "WARNING: Problem solving for delta_x: predicted residual increase.\n",
      "0.0004546884494184248 (predicted_residual) >\n",
      "0.0004433567234535528 (residual) + 5.421010862427522e-20 (eps)\n",
      "WARNING: Problem solving for delta_x: predicted residual increase.\n",
      "0.0004656921980896637 (predicted_residual) >\n",
      "0.00044991247081704996 (residual) + 5.421010862427522e-20 (eps)\n",
      "WARNING: Problem solving for delta_x: predicted residual increase.\n",
      "0.0004543258514653711 (predicted_residual) >\n",
      "0.00045131684766847204 (residual) + 5.421010862427522e-20 (eps)\n",
      "WARNING: Problem solving for delta_x: predicted residual increase.\n",
      "0.00043479615945979464 (predicted_residual) >\n",
      "0.0004340593329672513 (residual) + 5.421010862427522e-20 (eps)\n",
      "WARNING: Problem solving for delta_x: predicted residual increase.\n",
      "0.0004269403613816553 (predicted_residual) >\n",
      "0.0004269334182984137 (residual) + 5.421010862427522e-20 (eps)\n",
      "WARNING: Problem solving for delta_x: predicted residual increase.\n",
      "0.0004269197597603329 (predicted_residual) >\n",
      "0.00042691971851678 (residual) + 5.421010862427522e-20 (eps)\n",
      "WARNING: Problem solving for delta_x: predicted residual increase.\n",
      "0.0004269197393066016 (predicted_residual) >\n",
      "0.00042691973152794217 (residual) + 5.421010862427522e-20 (eps)\n",
      "WARNING: Problem solving for delta_x: predicted residual increase.\n",
      "0.00046458374851385427 (predicted_residual) >\n",
      "0.00035434129007836605 (residual) + 5.421010862427522e-20 (eps)\n",
      "WARNING: Problem solving for delta_x: predicted residual increase.\n",
      "0.00041742907415773917 (predicted_residual) >\n",
      "0.0003787829838349422 (residual) + 5.421010862427522e-20 (eps)\n",
      "WARNING: Problem solving for delta_x: predicted residual increase.\n",
      "0.0005906066548754099 (predicted_residual) >\n",
      "0.000377066274941246 (residual) + 1.0842021724855044e-19 (eps)\n",
      "WARNING: Problem solving for delta_x: predicted residual increase.\n",
      "0.00039206124503358953 (predicted_residual) >\n",
      "0.0003920556100983851 (residual) + 5.421010862427522e-20 (eps)\n"
     ]
    },
    {
     "name": "stdout",
     "output_type": "stream",
     "text": [
      "4 Failed to perform landmark regression on /home/data/ckplus/Landmarks/S010/003\n",
      "/home/data/ckplus/Landmarks/S010/004\n",
      "/home/data/ckplus/Landmarks/S010/005\n"
     ]
    },
    {
     "name": "stderr",
     "output_type": "stream",
     "text": [
      "WARNING: Problem solving for delta_x: predicted residual increase.\n",
      "0.001518062540858069 (predicted_residual) >\n",
      "0.0015180617014360046 (residual) + 2.168404344971009e-19 (eps)\n"
     ]
    },
    {
     "name": "stdout",
     "output_type": "stream",
     "text": [
      "/home/data/ckplus/Landmarks/S010/006\n"
     ]
    },
    {
     "name": "stderr",
     "output_type": "stream",
     "text": [
      "WARNING: Problem solving for delta_x: predicted residual increase.\n",
      "0.015851717963845463 (predicted_residual) >\n",
      "0.010110986152224452 (residual) + 3.469446951953614e-18 (eps)\n",
      "WARNING: Problem solving for delta_x: predicted residual increase.\n",
      "0.0002500275458194153 (predicted_residual) >\n",
      "0.0002499399608806692 (residual) + 5.421010862427522e-20 (eps)\n"
     ]
    },
    {
     "name": "stdout",
     "output_type": "stream",
     "text": [
      "/home/data/ckplus/Landmarks/S011/001\n",
      "8 Failed to perform landmark regression on /home/data/ckplus/Landmarks/S011/001\n",
      "/home/data/ckplus/Landmarks/S011/002\n",
      "Total: 10, miss: 9\n"
     ]
    },
    {
     "name": "stderr",
     "output_type": "stream",
     "text": [
      "WARNING: Problem solving for delta_x: predicted residual increase.\n",
      "0.00025022766747277725 (predicted_residual) >\n",
      "0.0002500282244874036 (residual) + 5.421010862427522e-20 (eps)\n",
      "WARNING: Problem solving for delta_x: predicted residual increase.\n",
      "0.0002502666891230047 (predicted_residual) >\n",
      "0.00024994310354510216 (residual) + 5.421010862427522e-20 (eps)\n",
      "WARNING: Problem solving for delta_x: predicted residual increase.\n",
      "0.0002502385885256351 (predicted_residual) >\n",
      "0.00024999408221569407 (residual) + 5.421010862427522e-20 (eps)\n",
      "WARNING: Problem solving for delta_x: predicted residual increase.\n",
      "0.0002501112713727199 (predicted_residual) >\n",
      "0.00025002917504341425 (residual) + 5.421010862427522e-20 (eps)\n",
      "WARNING: Problem solving for delta_x: predicted residual increase.\n",
      "0.0002501712000531751 (predicted_residual) >\n",
      "0.00025005451767913197 (residual) + 5.421010862427522e-20 (eps)\n",
      "WARNING: Problem solving for delta_x: predicted residual increase.\n",
      "0.0002501382798370097 (predicted_residual) >\n",
      "0.0002500638083508149 (residual) + 5.421010862427522e-20 (eps)\n",
      "WARNING: Problem solving for delta_x: predicted residual increase.\n",
      "0.00024981008885779324 (predicted_residual) >\n",
      "0.0002497987587680746 (residual) + 5.421010862427522e-20 (eps)\n",
      "WARNING: Problem solving for delta_x: predicted residual increase.\n",
      "0.0002498871567432716 (predicted_residual) >\n",
      "0.00024981011754417177 (residual) + 5.421010862427522e-20 (eps)\n",
      "WARNING: Problem solving for delta_x: predicted residual increase.\n",
      "0.0002499316571658581 (predicted_residual) >\n",
      "0.00024988661836443035 (residual) + 5.421010862427522e-20 (eps)\n",
      "WARNING: Problem solving for delta_x: predicted residual increase.\n",
      "0.00025003333200753207 (predicted_residual) >\n",
      "0.00024993085719492874 (residual) + 5.421010862427522e-20 (eps)\n",
      "WARNING: Problem solving for delta_x: predicted residual increase.\n",
      "0.0002503202106913007 (predicted_residual) >\n",
      "0.0002500342326179943 (residual) + 5.421010862427522e-20 (eps)\n",
      "WARNING: Problem solving for delta_x: predicted residual increase.\n",
      "0.0002497609104229445 (predicted_residual) >\n",
      "0.00024974031356562196 (residual) + 5.421010862427522e-20 (eps)\n"
     ]
    },
    {
     "data": {
      "text/plain": [
       "Array{T,2}"
      ]
     },
     "execution_count": 190,
     "metadata": {},
     "output_type": "execute_result"
    }
   ],
   "source": [
    "# iterate over all samples to mount the trainning matrix for svm: X <samples> x <landmarks * regression_params>\n",
    "function parseSVMTrainingX(dir)\n",
    "    landmarksDir = \"$dir/Landmarks\"\n",
    "    X = Matrix\n",
    "    \n",
    "    c, miss = 0, 0\n",
    "    \n",
    "    first = true\n",
    "    for subjectDir = readdir(landmarksDir), sampleDir = readdir(\"$landmarksDir/$subjectDir\")\n",
    "        \n",
    "        c += 1\n",
    "        if c >= 10\n",
    "            break\n",
    "        end\n",
    "        \n",
    "        sampleDir = \"$landmarksDir/$subjectDir/$sampleDir\"\n",
    "        println(sampleDir)\n",
    "        \n",
    "        try\n",
    "            row = landmarksRegressionParams(sampleDir);\n",
    "        catch\n",
    "            println(\"$c Failed to perform landmark regression on $sampleDir\")\n",
    "        finally\n",
    "            miss += 1\n",
    "            continue\n",
    "        end\n",
    "\n",
    "        if first\n",
    "            X = reshape(row, 1, size(row)[1])\n",
    "        else\n",
    "            vcat(X, reshape(row, 1, size(row)[1]))\n",
    "        end\n",
    "    end\n",
    "    \n",
    "    println(\"Total: $c, miss: $miss\")\n",
    "    \n",
    "    return X\n",
    "end\n",
    "b = parseSVMTrainingX(\"/home/data/ckplus\")"
   ]
  },
  {
   "cell_type": "code",
   "execution_count": null,
   "metadata": {
    "collapsed": false
   },
   "outputs": [],
   "source": [
    "using RegERMs\n",
    "function trainCKPlus(dir, debug = false)\n",
    "    landmarksDir = \"$dir/Landmarks\"\n",
    "    emotionDir = \"$dir/Emotion\"\n",
    "    facsDir =  \"$dir/FACS\"\n",
    "end\n",
    "\n",
    "trainCKPlus(\"/home/data/ckplus\", true)"
   ]
  },
  {
   "cell_type": "code",
   "execution_count": null,
   "metadata": {
    "collapsed": false
   },
   "outputs": [],
   "source": [
    "# \"/home/data/ckplus/Emotion/S005/001/S005_001_00000011_emotion.txt\"\n",
    "593 * 67 * 6"
   ]
  },
  {
   "cell_type": "code",
   "execution_count": 201,
   "metadata": {
    "collapsed": false
   },
   "outputs": [
    {
     "name": "stdout",
     "output_type": "stream",
     "text": [
      "\n",
      "---\n",
      " 1\n"
     ]
    },
    {
     "name": "stderr",
     "output_type": "stream",
     "text": [
      "WARNING: Problem solving for delta_x: predicted residual increase.\n",
      "0.00013743956508164825 (predicted_residual) >\n",
      "0.0001363609285362702 (residual) + 2.710505431213761e-20 (eps)\n"
     ]
    },
    {
     "ename": "LoadError",
     "evalue": "LoadError: Base.LinAlg.SingularException(4)\nwhile loading In[201], in expression starting on line 1",
     "output_type": "error",
     "traceback": [
      "LoadError: Base.LinAlg.SingularException(4)\nwhile loading In[201], in expression starting on line 1",
      "",
      " in \\ at linalg/factorization.jl:25",
      " in \\ at linalg/dense.jl:448",
      " in levenberg_marquardt at /root/.julia/v0.4/Optim/src/levenberg_marquardt.jl:70",
      " in lmfit at /root/.julia/v0.4/LsqFit/src/curve_fit.jl:29",
      " in curve_fit at /root/.julia/v0.4/LsqFit/src/curve_fit.jl:39",
      " in cubicRegression at In[163]:5",
      " in landmarksRegressionParams at In[200]:17"
     ]
    },
    {
     "name": "stdout",
     "output_type": "stream",
     "text": [
      "\n",
      " x: (18,)\n",
      "[1.6125587940086228,1.613146336527954,1.613854472054303,1.6133666499119552,1.6127935733958823,1.61212187727935,1.6124093097427878,1.6091185921922317,1.6021711990252059,1.597788682405467,1.5933943218193074,1.5875754859571956,1.5855649748971035,1.5842655269915151,1.5814208079571512,1.5796968709963122,1.5793581788994282,1.5782900635363626]\n",
      " y: (18,)\n",
      "[1.2005137495649008,1.200579293024512,1.199354687828176,1.200340110482455,1.200074351804677,1.1988383146913537,1.1967784285754253,1.1985410604529516,1.205598360991823,1.2125404855621087,1.2114197271657834,1.215806853648853,1.2175258514318594,1.2185035380367226,1.2207190694021894,1.2220891017034743,1.2224178256647364,1.2220027536117763]\n",
      "---\n",
      " 2\n",
      "\n",
      " x: (18,)\n",
      "[1.6159705337023482,1.6166308170154187,1.6169828221010247,1.6166814591766943,1.6157209961188022,1.6141357932063256,1.613128939919174,1.6098342799094572,1.6044844034210308,1.6018354758234399,1.5962652568196567,1.5912300027241488,1.5895585292871994,1.5884453999048824,1.5860581067617574,1.5846298319003471,1.5843690885325519,1.583049811029972]\n",
      " y: (18,)\n",
      "[0.7644240766936521,0.764358099886343,0.7631575565321581,0.763884161524606,0.7632600290119667,0.7614314812230832,0.7583065357774175,0.7598242108276784,0.7668368816191966,0.7730710671825024,0.7721288562580776,0.7765591870910102,0.7782519075377903,0.7792606818391119,0.7815804427362238,0.7830269653530371,0.7833599694952407,0.7831857235783635]\n",
      "---\n",
      " 3\n",
      "\n",
      " x: (18,)\n",
      "[1.5566462230951708,1.5576246983008943,1.5575943081441268,1.5582087291037816,1.5581371405090214,1.5578256512605635,1.559073063579055,1.5569939022215884,1.5537742596605308,1.554843843605239,1.54876059000844,1.5449641751670622,1.5438790212188862,1.5429880427412757,1.541013651212831,1.5398092498025342,1.5396352047353412,1.5376436387039687]\n",
      " y: (18,)\n",
      "[0.33498515798687695,0.33470269092273774,0.3335864164627359,0.3338012651923479,0.3324784091306987,0.32950931052303184,0.3244031240159096,0.32530845228701044,0.3319216764394596,0.3366513393627577,0.3358519507957181,0.34011249278257616,0.34167194387141014,0.34268255571261247,0.3450715174275417,0.34658339244805103,0.3469094612908356,0.3471290569818025]\n",
      "---\n",
      " 4\n",
      "\n",
      " x: (18,)\n",
      "[1.4770626600685253,1.4782786987458405,1.4778736715772394,1.4790730030311348,1.479257771367253,1.4791257321631528,1.4809256021762813,1.4793809099084292,1.4779214085695072,1.4817973648021976,1.4746327245622144,1.4717227378698796,1.4710683710990975,1.470352645032129,1.4687493573951815,1.4677660212647015,1.467669609305728,1.4651376182119518]\n",
      " y: (18,)\n",
      "[-0.08934101081178888,-0.0895943817426072,-0.09067618092806774,-0.09070993046088172,-0.09258148050164257,-0.09649865297885683,-0.10289401583587991,-0.10283390557870623,-0.09704034714272498,-0.09311940658832558,-0.09504254459405162,-0.09158747735188223,-0.09031404957207666,-0.08946114903480873,-0.08736930064765608,-0.08601992783431182,-0.08572731198583063,-0.08560850655241684]\n",
      "---\n",
      " 5\n",
      "\n",
      " x: (18,)\n",
      "[1.3544185878763644,1.355415428058663,1.3547491745618883,1.3558041929618787,1.3554532738277507,1.3542545905040044,1.3540590106059103,1.3527564901170206,1.3531844001353581,1.3577757307922758,1.3509843700526558,1.3494760866844342,1.3492888447569935,1.3489169692501073,1.3481322605523063,1.3476688940830257,1.3476713045003728,1.345482955563372]\n",
      " y: (18,)\n",
      "[-0.5027821582434815,-0.5033127837878677,-0.504243223803971,-0.5048461729584449,-0.5073268876892787,-0.5121740192030253,-0.5203313582690248,-0.5207768417046709,-0.5155527795214832,-0.5135642588653738,-0.5148003406816484,-0.5114960483798519,-0.5103762231213754,-0.5095166641094032,-0.5073515664972582,-0.5059364973675287,-0.505658428379934,-0.5049827644806404]\n",
      "---\n",
      " 6\n",
      "\n",
      " x: (18,)\n",
      "[1.0972804379613292,1.0983700867519786,1.0974400569209393,1.09905308403254,1.0993303252409887,1.0990575802529643,1.100262699566272,1.1000912477684388,1.1024674404082089,1.109553126721191,1.1032256378107252,1.103128363886763,1.103511786992382,1.10342347526281,1.1032113752259862,1.1030778429072223,1.1031671094943398,1.1007749446237365]\n",
      " y: (18,)\n",
      "[-0.8480361361989623,-0.8486130268888342,-0.8493733561017113,-0.8506432825012078,-0.8542595507277518,-0.8609909689518518,-0.8718648465161185,-0.8740176189771944,-0.8707311987089816,-0.871140372256814,-0.8739922088047428,-0.8723265467980335,-0.871832560020615,-0.8712868639595579,-0.8697110388553841,-0.8686176548167127,-0.8684179970328586,-0.8676957195740298]"
     ]
    },
    {
     "name": "stderr",
     "output_type": "stream",
     "text": [
      "WARNING: Problem solving for delta_x: predicted residual increase.\n",
      "0.0001390276926636207 (predicted_residual) >\n",
      "0.00013666117198592713 (residual) + 2.710505431213761e-20 (eps)\n",
      "WARNING: Problem solving for delta_x: predicted residual increase.\n",
      "0.00022338284059070733 (predicted_residual) >\n",
      "0.00022090922661087284 (residual) + 2.710505431213761e-20 (eps)\n",
      "WARNING: Problem solving for delta_x: predicted residual increase.\n",
      "0.0002201705845372338 (predicted_residual) >\n",
      "0.00022016713092219746 (residual) + 2.710505431213761e-20 (eps)\n",
      "WARNING: Problem solving for delta_x: predicted residual increase.\n",
      "0.00022017088254095793 (predicted_residual) >\n",
      "0.00022016855972893589 (residual) + 2.710505431213761e-20 (eps)\n",
      "WARNING: Problem solving for delta_x: predicted residual increase.\n",
      "0.0002201670154172418 (predicted_residual) >\n",
      "0.00022016653371512398 (residual) + 2.710505431213761e-20 (eps)\n",
      "WARNING: Problem solving for delta_x: predicted residual increase.\n",
      "0.000471812916442793 (predicted_residual) >\n",
      "0.0004393896062444279 (residual) + 5.421010862427522e-20 (eps)\n",
      "WARNING: Problem solving for delta_x: predicted residual increase.\n",
      "0.00044551929765171617 (predicted_residual) >\n",
      "0.00044099394062964425 (residual) + 5.421010862427522e-20 (eps)\n",
      "WARNING: Problem solving for delta_x: predicted residual increase.\n",
      "0.0004546884494184248 (predicted_residual) >\n",
      "0.0004433567234535528 (residual) + 5.421010862427522e-20 (eps)\n",
      "WARNING: Problem solving for delta_x: predicted residual increase.\n",
      "0.0004656921980896637 (predicted_residual) >\n",
      "0.00044991247081704996 (residual) + 5.421010862427522e-20 (eps)\n",
      "WARNING: Problem solving for delta_x: predicted residual increase.\n",
      "0.0004543258514653711 (predicted_residual) >\n",
      "0.00045131684766847204 (residual) + 5.421010862427522e-20 (eps)\n",
      "WARNING: Problem solving for delta_x: predicted residual increase.\n",
      "0.00043479615945979464 (predicted_residual) >\n",
      "0.0004340593329672513 (residual) + 5.421010862427522e-20 (eps)\n",
      "WARNING: Problem solving for delta_x: predicted residual increase.\n",
      "0.0004269403613816553 (predicted_residual) >\n",
      "0.0004269334182984137 (residual) + 5.421010862427522e-20 (eps)\n",
      "WARNING: Problem solving for delta_x: predicted residual increase.\n",
      "0.0004269197597603329 (predicted_residual) >\n",
      "0.00042691971851678 (residual) + 5.421010862427522e-20 (eps)\n",
      "WARNING: Problem solving for delta_x: predicted residual increase.\n",
      "0.0004269197393066016 (predicted_residual) >\n",
      "0.00042691973152794217 (residual) + 5.421010862427522e-20 (eps)\n",
      "WARNING: Problem solving for delta_x: predicted residual increase.\n",
      "0.00046458374851385427 (predicted_residual) >\n",
      "0.00035434129007836605 (residual) + 5.421010862427522e-20 (eps)\n",
      "WARNING: Problem solving for delta_x: predicted residual increase.\n",
      "0.00041742907415773917 (predicted_residual) >\n",
      "0.0003787829838349422 (residual) + 5.421010862427522e-20 (eps)\n",
      "WARNING: Problem solving for delta_x: predicted residual increase.\n",
      "0.0005906066548754099 (predicted_residual) >\n",
      "0.000377066274941246 (residual) + 1.0842021724855044e-19 (eps)\n"
     ]
    }
   ],
   "source": [
    "landmarksRegressionParams(\"/home/data/ckplus/Landmarks/S010/003\", true)"
   ]
  },
  {
   "cell_type": "code",
   "execution_count": null,
   "metadata": {
    "collapsed": true
   },
   "outputs": [],
   "source": []
  }
 ],
 "metadata": {
  "kernelspec": {
   "display_name": "Julia 0.4.1",
   "language": "julia",
   "name": "julia-0.4"
  },
  "language_info": {
   "file_extension": ".jl",
   "mimetype": "application/julia",
   "name": "julia",
   "version": "0.4.1"
  }
 },
 "nbformat": 4,
 "nbformat_minor": 0
}
