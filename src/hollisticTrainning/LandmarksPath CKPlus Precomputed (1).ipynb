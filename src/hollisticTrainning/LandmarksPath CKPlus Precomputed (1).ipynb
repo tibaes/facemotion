{
 "cells": [
  {
   "cell_type": "markdown",
   "metadata": {},
   "source": [
    "# Landmarks Path Computation\n",
    "In this notebook, we train emotion models using the CK+ dataset.\n",
    "\n",
    "The idea is basicaly to compute the normalized landmarks paths over a sequence of images.\n",
    "\n",
    "These landmarks are provided by the dataset, where it was computed using AAM.\n",
    "\n",
    "To achieve normalization, it is computed the distance of each landmark point to a reference point (nose), and it is diveded by the distance between eyes."
   ]
  },
  {
   "cell_type": "code",
   "execution_count": null,
   "metadata": {
    "collapsed": true
   },
   "outputs": [],
   "source": []
  },
  {
   "cell_type": "code",
   "execution_count": null,
   "metadata": {
    "collapsed": false,
    "scrolled": true
   },
   "outputs": [],
   "source": []
  },
  {
   "cell_type": "code",
   "execution_count": null,
   "metadata": {
    "collapsed": true
   },
   "outputs": [],
   "source": []
  }
 ],
 "metadata": {
  "kernelspec": {
   "display_name": "Julia 0.4.1",
   "language": "julia",
   "name": "julia-0.4"
  },
  "language_info": {
   "file_extension": ".jl",
   "mimetype": "application/julia",
   "name": "julia",
   "version": "0.4.1"
  }
 },
 "nbformat": 4,
 "nbformat_minor": 0
}
