{
 "cells": [
  {
   "cell_type": "markdown",
   "metadata": {},
   "source": [
    "# Landmarks Path Computation\n",
    "In this notebook, we train emotion models using the CK+ dataset.\n",
    "\n",
    "The idea is basicaly to compute the normalized landmarks paths over a sequence of images.\n",
    "\n",
    "These landmarks are provided by the dataset, where it was computed using AAM.\n",
    "\n",
    "To achieve normalization, it is computed the distance of each landmark point to a reference point (nose), and it is diveded by the distance between eyes."
   ]
  },
  {
   "cell_type": "code",
   "execution_count": 1,
   "metadata": {
    "collapsed": false
   },
   "outputs": [],
   "source": [
    "# Database parser\n",
    "getLandmarkDots(filename) = map((x)->parse(x), split(readall(filename), ['\\n', ' '], limit=0, keep=false));\n",
    "getLandmarkPoint(id, dots) = [dots[id*2-1], dots[id*2]];"
   ]
  },
  {
   "cell_type": "code",
   "execution_count": 2,
   "metadata": {
    "collapsed": false,
    "scrolled": false
   },
   "outputs": [
    {
     "data": {
      "text/plain": [
       "136-element Array{Float64,1}:\n",
       " 181.333\n",
       " 191.839\n",
       " 183.712\n",
       " 221.229\n",
       " 186.614\n",
       " 250.323\n",
       " 190.084\n",
       " 279.266\n",
       " 199.901\n",
       " 306.639\n",
       " 218.007\n",
       " 329.651\n",
       " 242.417\n",
       "   ⋮    \n",
       " 297.656\n",
       " 283.435\n",
       " 313.561\n",
       " 284.371\n",
       " 328.846\n",
       " 288.721\n",
       " 313.387\n",
       " 285.161\n",
       " 297.658\n",
       " 284.29 \n",
       " 282.178\n",
       " 282.546"
      ]
     },
     "execution_count": 2,
     "metadata": {},
     "output_type": "execute_result"
    }
   ],
   "source": [
    "dots = getLandmarkDots(\"/home/data/ckplus/Landmarks/S100/001/S100_001_00000001_landmarks.txt\")"
   ]
  },
  {
   "cell_type": "code",
   "execution_count": 3,
   "metadata": {
    "collapsed": false
   },
   "outputs": [
    {
     "data": {
      "text/plain": [
       "2-element Array{Float64,1}:\n",
       " 297.659\n",
       " 248.387"
      ]
     },
     "execution_count": 3,
     "metadata": {},
     "output_type": "execute_result"
    }
   ],
   "source": [
    "# Reference Point: nose\n",
    "referenceID = 34\n",
    "referencePoint = getLandmarkPoint(referenceID, dots)"
   ]
  },
  {
   "cell_type": "code",
   "execution_count": 4,
   "metadata": {
    "collapsed": false
   },
   "outputs": [
    {
     "name": "stdout",
     "output_type": "stream",
     "text": [
      "67."
     ]
    }
   ],
   "source": [
    "# Reference Size: distance between eyes\n",
    "using Distances\n",
    "referenceSize = evaluate(Euclidean(), getLandmarkPoint(40, dots), getLandmarkPoint(43, dots))\n",
    "println(referenceSize)\n",
    "if referenceSize < 1.0 error(\"Distance between eyes less than one.\") end"
   ]
  },
  {
   "cell_type": "code",
   "execution_count": 7,
   "metadata": {
    "collapsed": false
   },
   "outputs": [
    {
     "name": "stdout",
     "output_type": "stream",
     "text": [
      "Any[-1.7158394999072653,-0.8341003087650835,-1.6807565117013892,-0.4005991496374491,-1.6379408285008328,0.028543887135675343,-1.5867605476396938,0.45546302183275067,-1.4419571901910422,0.8592302399711864,-1.1748840594584802,1.1986616835588455,-0.8148345050999629,1.429212787241336,-0.4201478639732493,1.6038141019623333,0.0021087022669763617,1.667898236469219,0.43672660627872373,1.6297935026952635,0.8515625937803495,1.5073530684906136,1.2234370176573808,1.2913125681596742,1.5011774147053765,0.9569811867980197,1.7052554252593315,0.5788240219892891,1.8251622011791573,0.1590772185549247,1.9293377867819008,-0.2625661778948834,1.9721381296749751,-0.6884610520616086,-1.3683294668917931,-1.5332833507390093,-1.137917606000295,-1.649639730494445,-0.8839309375737012,-1.6868697717360026,-0.6248470094772772,-1.6712726616064333,-0.3822157086584681,-1.5895833117193754,0.6079614610221604,-1.5939219636836197,0.8622758810182295,-1.6201816200340131,1.1147068357619894,-1.6118410653553503,1.3589706993040003,-1.5366745912132715,1.5768331561543636,-1.4115292477912316,0.06080691381804537,-1.1642212182317437,0.05242092822876198,-0.9252858989954488,0.04038557199123736,-0.6869279063311282,0.01302687111151859,-0.4518071610544208,-0.28670370920925314,-0.06515751352177052,-0.14644949044385608,-0.01569932967846528,0.1473010250120754,-0.0034220685921828365,0.2910457537414993,-0.021687212200002314,-0.9990292646126402,-1.112078038070184,-0.7972403524415335,-1.2271433244468533,-0.5682909833643237,-1.1944939875212541,-0.40396605212387826,-1.03383642228975,-0.6154386808960792,-0.9715488737937598,-0.8311085062971845,-0.9813674080971498,0.5950875504765945,-0.9903404554535407,0.7985273157375167,-1.151735387964886,1.0553886692845003,-1.1556852221356393,1.2336667902036584,-0.9772998665670622,1.02575001520524,-0.8792897570455537,0.7966529956685137,-0.8848929518563836,-0.5905232189888132,0.534139328826165,-0.412500573190417,0.3942087315474601,-0.2124719613028925,0.2961188229264526,-0.004369185076251685,0.35183319716927725,0.22235362687169047,0.31373642855497613,0.4149277343406056,0.4499481812929003,0.5947087628841499,0.6036279716613953,0.4143486377331532,0.7213878420484958,0.20484856599902285,0.7639448050632468,-0.00872184982136932,0.755580207402665,-0.22277784537475556,0.7400400334143273,-0.42205168463356435,0.6628689940926032,-0.4514445987871971,0.5385223791803343,-0.22555252349059823,0.49934485640331955,-4.8380969750976685e-5,0.5169671821264529,0.2345606765506505,0.5307713938190399,0.4600118655100924,0.5949309023367283,0.23199678015973174,0.5424245698961184,-1.9617893222366086e-5,0.5295773573856895,-0.22834313192574934,0.5038512192291724]"
     ]
    }
   ],
   "source": [
    "# Normalized vector\n",
    "normalizedVector = []\n",
    "for id = 1:round(Int,(length(dots) / 2))\n",
    "    if id == referenceID; continue end\n",
    "    append!(normalizedVector, (getLandmarkPoint(id, dots) - referencePoint) / referenceSize)\n",
    "end\n",
    "show(normalizedVector)"
   ]
  },
  {
   "cell_type": "code",
   "execution_count": 8,
   "metadata": {
    "collapsed": false
   },
   "outputs": [],
   "source": [
    "using RegERMs"
   ]
  },
  {
   "cell_type": "code",
   "execution_count": null,
   "metadata": {
    "collapsed": true
   },
   "outputs": [],
   "source": []
  }
 ],
 "metadata": {
  "kernelspec": {
   "display_name": "Julia 0.4.1",
   "language": "julia",
   "name": "julia-0.4"
  },
  "language_info": {
   "file_extension": ".jl",
   "mimetype": "application/julia",
   "name": "julia",
   "version": "0.4.1"
  }
 },
 "nbformat": 4,
 "nbformat_minor": 0
}
