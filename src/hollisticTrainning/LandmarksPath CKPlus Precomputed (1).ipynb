{
 "cells": [
  {
   "cell_type": "markdown",
   "metadata": {},
   "source": [
    "# Landmarks Path Computation\n",
    "In this notebook, we train emotion models using the CK+ dataset.\n",
    "- Read landmarks files and convert it to a normalized space.\n",
    "- TODO: PCA to avoid unnecessary landmarks\n",
    "- Based on the normalized landmarks, compute its patch regresssion.\n",
    "- "
   ]
  },
  {
   "cell_type": "markdown",
   "metadata": {},
   "source": [
    "## Function to read and pre-process features from a file\n",
    "The dataset contains landmarks computed using AAM. These landmarks are stored as a sequence of (x \\n y \\n) floats dots. Each frame has its own landmark file. To achieve a normalized feature set, it is set the nose as the reference point and the distance between the eyes as the reference size. For each landmark, the final feature is its distance to the reference point divided by the reference size."
   ]
  },
  {
   "cell_type": "code",
   "execution_count": 44,
   "metadata": {
    "collapsed": false
   },
   "outputs": [],
   "source": [
    "using Distances\n",
    "function readLandmarksFile(filename)\n",
    "    # println(\"Getting features from: \", filename)\n",
    "    \n",
    "    # Database parser\n",
    "    dots = map((x)->parse(x), split(readall(filename), ['\\n', ' '], limit=0, keep=false));\n",
    "    getLandmarkPoint(id) = [dots[id*2-1], dots[id*2]];\n",
    "    \n",
    "    # Reference Point: nose\n",
    "    referenceID = 34\n",
    "    referencePoint = getLandmarkPoint(referenceID)\n",
    "    \n",
    "    # Reference Size: distance between eyes\n",
    "    referenceSize = evaluate(Euclidean(), getLandmarkPoint(40), getLandmarkPoint(43))\n",
    "    if referenceSize < 1.0 error(\"Distance between eyes less than one.\") end\n",
    "    \n",
    "    # Normalized vector\n",
    "    normalizedVector = []\n",
    "    for id = 1:round(Int,(length(dots) / 2))\n",
    "        if id == referenceID; continue end\n",
    "        append!(normalizedVector, (referencePoint - getLandmarkPoint(id)) / referenceSize)\n",
    "    end\n",
    "    \n",
    "    return normalizedVector\n",
    "end;"
   ]
  },
  {
   "cell_type": "markdown",
   "metadata": {},
   "source": [
    "## Function to perform patch regression over the landmarks\n",
    "Using the above function, all the landmarks from a video sequence are read and normalized. Then, for each landmark trajectory, it is computed its patch regression. The regression uses a second order polinomial function: a + bx + cx^2. The resulting vector contains the parameters [x0,xt,a,b,c] for each landmark patch."
   ]
  },
  {
   "cell_type": "code",
   "execution_count": 45,
   "metadata": {
    "collapsed": false
   },
   "outputs": [],
   "source": [
    "# returns patch_xy[file][landmark*2]\n",
    "function getPatchFeatures(dir)\n",
    "    landmarks4frame = []\n",
    "    for f = readdir(\"$dir\")\n",
    "        push!(landmarks4frame, readLandmarksFile(\"$dir/$f\"))\n",
    "    end\n",
    "    return landmarks4frame\n",
    "end;"
   ]
  },
  {
   "cell_type": "code",
   "execution_count": 46,
   "metadata": {
    "collapsed": false
   },
   "outputs": [],
   "source": [
    "# returns the (x y) patch for a given landmark\n",
    "function splitXY(patch, landmark)\n",
    "    x, y = Float64[], Float64[]\n",
    "    for file = 1:round(Int, length(patch))\n",
    "        push!(x, patch[file][landmark*2-1])\n",
    "        push!(y, patch[file][landmark*2])\n",
    "    end\n",
    "    return x, y\n",
    "end;"
   ]
  },
  {
   "cell_type": "code",
   "execution_count": 47,
   "metadata": {
    "collapsed": false
   },
   "outputs": [],
   "source": [
    "# return abcd (cubic) params for a given (x, y) patch\n",
    "using LsqFit\n",
    "function cubicRegression(x, y)\n",
    "    model(x, p) = p[1] + p[2] * x + p[3] * x .^ 2 + p[4] * x .^ 3;\n",
    "    fit = curve_fit(model, x, y, [0.,0.,0.,0.]);\n",
    "    return fit.param\n",
    "end;\n",
    "function squareRegression(x, y)\n",
    "    model(x, p) = p[1] + p[2] * x + p[3] * x .^ 2;\n",
    "    fit = curve_fit(model, x, y, [0.,0.,0.]);\n",
    "    return fit.param\n",
    "end;"
   ]
  },
  {
   "cell_type": "code",
   "execution_count": 48,
   "metadata": {
    "collapsed": false
   },
   "outputs": [],
   "source": [
    "using Gadfly\n",
    "function drawCubicCurve(x, y, param, title=\"no title\")\n",
    "    plot(layer(x=x, y=y, Geom.point, order=1),\n",
    "         layer((x)->param[1] + param[2] * x + param[3] * x .^ 2 + param[4] * x .^ 3, minimum(x), maximum(x)),\n",
    "         Guide.title(title))\n",
    "end;\n",
    "function drawSquareCurve(x, y, param, title=\"no title\")\n",
    "    plot(layer(x=x, y=y, Geom.point, order=1),\n",
    "         layer((x)->param[1] + param[2] * x + param[3] * x .^ 2, minimum(x), maximum(x)),\n",
    "         Guide.title(title))\n",
    "end;"
   ]
  },
  {
   "cell_type": "code",
   "execution_count": 49,
   "metadata": {
    "collapsed": false
   },
   "outputs": [],
   "source": [
    "# performs regression for each landmark on a video clip\n",
    "# returns [x0, xt, a, b, c] * lenght(landmarks), i.e. SVM ready\n",
    "function landmarksRegressionParams(dir, debug=false)\n",
    "    abc = []\n",
    "    patch = getPatchFeatures(dir)\n",
    "    for landmark = 1:floor(Int, length(patch[1]) / 2)\n",
    "        x, y = splitXY(patch, landmark)\n",
    "        p = []\n",
    "        try\n",
    "            p = squareRegression(x, y)\n",
    "        catch\n",
    "            warn(\"Landmark $landmark: Skipping regression due to an awesome error while performing curve fitting\")\n",
    "            p = [0.,0.,0.]\n",
    "        finally\n",
    "            push!(abc, minimum(x))\n",
    "            push!(abc, maximum(x))\n",
    "            append!(abc, p)\n",
    "            if debug display(drawSquareCurve(x, y, p, \"landmark: $landmark\")) end            \n",
    "        end\n",
    "    end\n",
    "    return abc\n",
    "end;\n",
    "# p = landmarksRegressionParams(\"/home/data/ckplus/Landmarks/S100/001\");"
   ]
  },
  {
   "cell_type": "code",
   "execution_count": 50,
   "metadata": {
    "collapsed": false
   },
   "outputs": [
    {
     "data": {
      "text/plain": [
       "drawLandmarksCurves (generic function with 1 method)"
      ]
     },
     "execution_count": 50,
     "metadata": {},
     "output_type": "execute_result"
    }
   ],
   "source": [
    "using Gadfly\n",
    "function drawLandmarksCurves(param)     # TODO - a not so hardcoded revision\n",
    "    layers = Array{Gadfly.Layer,1}[]\n",
    "    for i in 1:floor(Int, length(param) / 5)\n",
    "        x0, xt, a, b, c = param[i*5-4], param[i*5-3], param[i*5-2], param[i*5-1], param[i*5]\n",
    "        push!(layers, layer((x)->a+b*x+c*x.^2, x0, xt))\n",
    "    end\n",
    "    plot( layers[1], layers[2], layers[3], layers[4], layers[5], layers[6], layers[7], layers[8], layers[9], layers[10], layers[11], layers[12], layers[13], layers[14], layers[15], layers[16], layers[17], layers[18], layers[19], layers[20], layers[21], layers[22], layers[23], layers[24], layers[25], layers[26], layers[27], layers[28], layers[29], layers[30], layers[31], layers[32], layers[33], layers[34], layers[35], layers[36], layers[37], layers[38], layers[39], layers[40], layers[41], layers[42], layers[43], layers[44], layers[45], layers[46], layers[47], layers[48], layers[49], layers[50], layers[51], layers[52], layers[53], layers[54], layers[55], layers[56], layers[57], layers[58], layers[59], layers[60], layers[61], layers[62], layers[63], layers[64], layers[65], layers[66], layers[67], Guide.title(\"Facial Landmarks Patchs\"))\n",
    "end;\n",
    "# drawLandmarksCurves(p)"
   ]
  },
  {
   "cell_type": "markdown",
   "metadata": {},
   "source": [
    "# Function to iterate over the CK+ dataset\n",
    "For each sample, read the landmarks and the emotion result files. Using the above functions, the landmarks are transformed to an array of regression parameters. To perform the SVM trainning, the trainning matrix is composed by the regression parameters, where each row represent a sample video. In the same manner, the result matrix (for trainning) is composed by the emotion ID for the respective sample in the trainning matrix. So, for SVM trainning there are two matrixes, MTrainning: samples x (landmarks * regression_params), MTResults: samples x 1."
   ]
  },
  {
   "cell_type": "code",
   "execution_count": 51,
   "metadata": {
    "collapsed": false
   },
   "outputs": [
    {
     "data": {
      "text/plain": [
       "readResultFile (generic function with 1 method)"
      ]
     },
     "execution_count": 51,
     "metadata": {},
     "output_type": "execute_result"
    }
   ],
   "source": [
    "# read the sample file containing Emotion or FACS codes\n",
    "function readResultFile(dir)\n",
    "    results = []\n",
    "    if !ispath(dir)\n",
    "        return results\n",
    "    end\n",
    "    for a in readdir(dir)\n",
    "        filename = \"$dir/$a\"\n",
    "        append!(results, map((x)->convert(Int, parse(x)), split(readall(filename), ['\\n', ' '], limit=0, keep=false)))\n",
    "    end\n",
    "    return(results)\n",
    "end;\n",
    "# readResultFile(\"/home/data/ckplus/Emotion/S005/001\")"
   ]
  },
  {
   "cell_type": "code",
   "execution_count": 52,
   "metadata": {
    "collapsed": false,
    "scrolled": true
   },
   "outputs": [
    {
     "data": {
      "text/plain": [
       "loadTrainningSamples (generic function with 1 method)"
      ]
     },
     "execution_count": 52,
     "metadata": {},
     "output_type": "execute_result"
    }
   ],
   "source": [
    "# iterate over all samples to mount the trainning matrix for svm: X <samples> x <landmarks * regression_params>\n",
    "# returns also the path \"$subject/$sample\" referencing each sample in X\n",
    "function loadTrainningSamples(dir)\n",
    "    landmarksDir = \"$dir/Landmarks\"\n",
    "    X, Path = Matrix, []\n",
    "    first, c = true, 0\n",
    "    for subjectDir = readdir(landmarksDir), sampleDir = readdir(\"$landmarksDir/$subjectDir\")\n",
    "        c += 1\n",
    "        if (c % 100 == 0) println(\"$c\") end\n",
    "        row = []\n",
    "        try\n",
    "            row = landmarksRegressionParams(\"$landmarksDir/$subjectDir/$sampleDir\")\n",
    "        catch\n",
    "            warn(\"$c: Skipping due to some bizarre error while loading landmarks regression parameters.\")\n",
    "            continue\n",
    "        end\n",
    "        if !first\n",
    "            X = vcat(X, reshape(row, 1, size(row)[1]))\n",
    "        else\n",
    "            X = reshape(row, 1, size(row)[1])\n",
    "            first = false\n",
    "        end\n",
    "        push!(Path, \"$subjectDir/$sampleDir\")\n",
    "    end\n",
    "    return X, Path\n",
    "end\n",
    "# @time S, P = loadTrainningSamples(\"/home/data/ckplus\");\n",
    "# drawLandmarksCurves(S[100,:])"
   ]
  },
  {
   "cell_type": "code",
   "execution_count": 53,
   "metadata": {
    "collapsed": false
   },
   "outputs": [
    {
     "data": {
      "text/plain": [
       "parseSVM_XY (generic function with 3 methods)"
      ]
     },
     "execution_count": 53,
     "metadata": {},
     "output_type": "execute_result"
    }
   ],
   "source": [
    "# todo: support facs\n",
    "function parseSVM_XY(dir, samples, paths, key, debug = false)\n",
    "    X, Y = Matrix(0,size(samples)[2]) , []\n",
    "    c = 0\n",
    "    for p in paths\n",
    "        c += 1\n",
    "        if debug \n",
    "            if c > 10 break end\n",
    "            println(\"--- $c: $p ---\")\n",
    "        end\n",
    "        results = readResultFile(\"$dir/$p\")\n",
    "        if length(results) > 0\n",
    "            for r in results\n",
    "                ry = (r == key)? 1: -1\n",
    "                X = vcat(X, samples[c,:])\n",
    "                push!(Y, ry)\n",
    "                if debug println(\"$c: $r -> $ry\") end\n",
    "            end\n",
    "        else\n",
    "            X = vcat(X, samples[c,:])\n",
    "            push!(Y, -1)\n",
    "            if debug println(\"$c: nothing -> -1\") end\n",
    "        end\n",
    "    end\n",
    "    return X, Y\n",
    "end\n",
    "# X, Y = parseSVM_XY(\"/home/data/ckplus/Emotion\", S, P, 6, true)"
   ]
  },
  {
   "cell_type": "code",
   "execution_count": 55,
   "metadata": {
    "collapsed": false
   },
   "outputs": [
    {
     "name": "stderr",
     "output_type": "stream",
     "text": [
      "WARNING: Problem solving for delta_x: predicted residual increase.\n",
      "0.001557923441399917 (predicted_residual) >\n",
      "0.001557923441399916 (residual) + 2.168404344971009e-19 (eps)\n"
     ]
    },
    {
     "name": "stdout",
     "output_type": "stream",
     "text": [
      "100\n"
     ]
    },
    {
     "name": "stderr",
     "output_type": "stream",
     "text": [
      "WARNING: Problem solving for delta_x: predicted residual increase.\n",
      "0.0015294840367033441 (predicted_residual) >\n",
      "0.0015294840367033435 (residual) + 2.168404344971009e-19 (eps)\n",
      "WARNING: Landmark 4: Skipping regression due to an awesome error while performing curve fitting\n",
      "WARNING: Problem solving for delta_x: predicted residual increase.\n",
      "4.234172740529432e-7 (predicted_residual) >\n",
      "3.999182640009279e-7 (residual) + 5.293955920339377e-23 (eps)\n",
      "WARNING: Problem solving for delta_x: predicted residual increase.\n",
      "3.6977921460262776e-7 (predicted_residual) >\n",
      "3.6977842723564926e-7 (residual) + 5.293955920339377e-23 (eps)\n",
      "WARNING: Problem solving for delta_x: predicted residual increase.\n",
      "1.0198107162043539e-9 (predicted_residual) >\n",
      "8.276141378370133e-10 (residual) + 2.0679515313825692e-25 (eps)\n",
      "WARNING: Landmark 16: Skipping regression due to an awesome error while performing curve fitting\n",
      "WARNING: Problem solving for delta_x: predicted residual increase.\n",
      "1.9430418844491996e-5 (predicted_residual) >\n",
      "1.9430312308963642e-5 (residual) + 3.3881317890172014e-21 (eps)\n"
     ]
    },
    {
     "name": "stdout",
     "output_type": "stream",
     "text": [
      "200\n"
     ]
    },
    {
     "name": "stderr",
     "output_type": "stream",
     "text": [
      "WARNING: Problem solving for delta_x: predicted residual increase.\n",
      "4.430542572763326e-7 (predicted_residual) >\n",
      "3.5104788717020695e-7 (residual) + 5.293955920339377e-23 (eps)\n",
      "WARNING: Landmark 4: Skipping regression due to an awesome error while performing curve fitting\n",
      "WARNING: Problem solving for delta_x: predicted residual increase.\n",
      "0.001147596165395189 (predicted_residual) >\n",
      "0.0011475961653951883 (residual) + 2.168404344971009e-19 (eps)\n",
      "WARNING: Landmark 2: Skipping regression due to an awesome error while performing curve fitting\n",
      "WARNING: Landmark 3: Skipping regression due to an awesome error while performing curve fitting\n",
      "WARNING: Landmark 2: Skipping regression due to an awesome error while performing curve fitting\n",
      "WARNING: Problem solving for delta_x: predicted residual increase.\n",
      "7.495394329371154e-9 (predicted_residual) >\n",
      "6.35277923127338e-9 (residual) + 1.6543612251060553e-24 (eps)\n",
      "WARNING: Problem solving for delta_x: predicted residual increase.\n",
      "8.888489423428942e-9 (predicted_residual) >\n",
      "6.926374952842766e-9 (residual) + 1.6543612251060553e-24 (eps)\n",
      "WARNING: Landmark 14: Skipping regression due to an awesome error while performing curve fitting\n",
      "WARNING: Landmark 15: Skipping regression due to an awesome error while performing curve fitting\n",
      "WARNING: Problem solving for delta_x: predicted residual increase.\n",
      "1.9235731437968274e-9 (predicted_residual) >\n",
      "4.382545052905591e-10 (residual) + 4.1359030627651384e-25 (eps)\n",
      "WARNING: Problem solving for delta_x: predicted residual increase.\n",
      "7.081271774101576e-10 (predicted_residual) >\n",
      "3.8173200146692075e-10 (residual) + 1.0339757656912846e-25 (eps)\n",
      "WARNING: Problem solving for delta_x: predicted residual increase.\n",
      "5.343473613196792e-10 (predicted_residual) >\n",
      "1.297106739017063e-10 (residual) + 1.0339757656912846e-25 (eps)\n",
      "WARNING: Problem solving for delta_x: predicted residual increase.\n",
      "1.4296381341226259e-11 (predicted_residual) >\n",
      "1.4295053813235453e-11 (residual) + 1.6155871338926322e-27 (eps)\n",
      "WARNING: Landmark 4: Skipping regression due to an awesome error while performing curve fitting\n",
      "WARNING: Problem solving for delta_x: predicted residual increase.\n",
      "2.8753400445053855e-9 (predicted_residual) >\n",
      "2.7755603592186008e-9 (residual) + 4.1359030627651384e-25 (eps)\n",
      "WARNING: Problem solving for delta_x: predicted residual increase.\n",
      "2.7531277325847847e-9 (predicted_residual) >\n",
      "2.657594049841199e-9 (residual) + 4.1359030627651384e-25 (eps)\n",
      "WARNING: Landmark 15: Skipping regression due to an awesome error while performing curve fitting\n",
      "WARNING: Problem solving for delta_x: predicted residual increase.\n",
      "2.91329960968913e-5 (predicted_residual) >\n",
      "1.259398477170624e-5 (residual) + 3.3881317890172014e-21 (eps)\n",
      "WARNING: Landmark 3: Skipping regression due to an awesome error while performing curve fitting\n",
      "WARNING: Problem solving for delta_x: predicted residual increase.\n",
      "6.409867433957831e-5 (predicted_residual) >\n",
      "6.248471016985288e-5 (residual) + 1.3552527156068805e-20 (eps)\n",
      "WARNING: Problem solving for delta_x: predicted residual increase.\n",
      "6.387037872463391e-5 (predicted_residual) >\n",
      "6.081724392014791e-5 (residual) + 1.3552527156068805e-20 (eps)\n",
      "WARNING: Problem solving for delta_x: predicted residual increase.\n",
      "6.327176908009719e-5 (predicted_residual) >\n",
      "6.221280001047798e-5 (residual) + 1.3552527156068805e-20 (eps)\n",
      "WARNING: Landmark 15: Skipping regression due to an awesome error while performing curve fitting\n",
      "WARNING: Problem solving for delta_x: predicted residual increase.\n",
      "4.5192654990990844e-5 (predicted_residual) >\n",
      "4.5192579342378646e-5 (residual) + 6.776263578034403e-21 (eps)\n",
      "WARNING: Problem solving for delta_x: predicted residual increase.\n",
      "4.519276143266473e-5 (predicted_residual) >\n",
      "4.5192645542388225e-5 (residual) + 6.776263578034403e-21 (eps)\n",
      "WARNING: Landmark 2: Skipping regression due to an awesome error while performing curve fitting\n",
      "WARNING: Problem solving for delta_x: predicted residual increase.\n",
      "0.0007444708006606169 (predicted_residual) >\n",
      "0.0007444708006606166 (residual) + 1.0842021724855044e-19 (eps)\n"
     ]
    },
    {
     "name": "stdout",
     "output_type": "stream",
     "text": [
      "300\n"
     ]
    },
    {
     "name": "stderr",
     "output_type": "stream",
     "text": [
      "WARNING: Problem solving for delta_x: predicted residual increase.\n",
      "8.9738471153641e-5 (predicted_residual) >\n",
      "8.973839072853483e-5 (residual) + 1.3552527156068805e-20 (eps)\n",
      "WARNING: Problem solving for delta_x: predicted residual increase.\n",
      "3.390967930629293e-6 (predicted_residual) >\n",
      "3.0368401124513785e-6 (residual) + 4.235164736271502e-22 (eps)\n",
      "WARNING: Problem solving for delta_x: predicted residual increase.\n",
      "2.9001525203243127e-6 (predicted_residual) >\n",
      "2.685801592200524e-6 (residual) + 4.235164736271502e-22 (eps)\n",
      "WARNING: Problem solving for delta_x: predicted residual increase.\n",
      "2.5588937436908338e-6 (predicted_residual) >\n",
      "2.5587606224300374e-6 (residual) + 4.235164736271502e-22 (eps)\n",
      "WARNING: Landmark 3: Skipping regression due to an awesome error while performing curve fitting\n",
      "WARNING: Problem solving for delta_x: predicted residual increase.\n",
      "1.2334930460592452e-9 (predicted_residual) >\n",
      "1.2326673968168132e-9 (residual) + 2.0679515313825692e-25 (eps)\n",
      "WARNING: Landmark 32: Skipping regression due to an awesome error while performing curve fitting\n",
      "WARNING: Landmark 2: Skipping regression due to an awesome error while performing curve fitting\n",
      "WARNING: Problem solving for delta_x: predicted residual increase.\n",
      "1.6785968352886283e-5 (predicted_residual) >\n",
      "1.678596835121486e-5 (residual) + 3.3881317890172014e-21 (eps)\n",
      "WARNING: Problem solving for delta_x: predicted residual increase.\n",
      "2.0610994024303835e-5 (predicted_residual) >\n",
      "2.060109179108311e-5 (residual) + 3.3881317890172014e-21 (eps)\n",
      "WARNING: Landmark 16: Skipping regression due to an awesome error while performing curve fitting\n",
      "WARNING: Landmark 15: Skipping regression due to an awesome error while performing curve fitting\n",
      "WARNING: Problem solving for delta_x: predicted residual increase.\n",
      "0.00010756292427752985 (predicted_residual) >\n",
      "0.00010756292415505498 (residual) + 1.3552527156068805e-20 (eps)\n",
      "WARNING: Landmark 3: Skipping regression due to an awesome error while performing curve fitting\n",
      "WARNING: Landmark 16: Skipping regression due to an awesome error while performing curve fitting\n",
      "WARNING: Problem solving for delta_x: predicted residual increase.\n",
      "9.51355755866774e-6 (predicted_residual) >\n",
      "9.38398077916439e-6 (residual) + 1.6940658945086007e-21 (eps)\n",
      "WARNING: Problem solving for delta_x: predicted residual increase.\n",
      "1.0468159695501117e-5 (predicted_residual) >\n",
      "9.414402528672176e-6 (residual) + 1.6940658945086007e-21 (eps)\n",
      "WARNING: Problem solving for delta_x: predicted residual increase.\n",
      "9.37993559229826e-6 (predicted_residual) >\n",
      "9.371571761397577e-6 (residual) + 1.6940658945086007e-21 (eps)\n",
      "WARNING: Problem solving for delta_x: predicted residual increase.\n",
      "9.450652559797994e-6 (predicted_residual) >\n",
      "9.374385967045319e-6 (residual) + 1.6940658945086007e-21 (eps)\n",
      "WARNING: Problem solving for delta_x: predicted residual increase.\n",
      "3.2582415841819726e-5 (predicted_residual) >\n",
      "3.151013294884095e-5 (residual) + 6.776263578034403e-21 (eps)\n",
      "WARNING: Problem solving for delta_x: predicted residual increase.\n",
      "3.2893390670282906e-5 (predicted_residual) >\n",
      "3.179068808203638e-5 (residual) + 6.776263578034403e-21 (eps)\n",
      "WARNING: Landmark 15: Skipping regression due to an awesome error while performing curve fitting\n",
      "WARNING: Problem solving for delta_x: predicted residual increase.\n",
      "4.882055708129303e-8 (predicted_residual) >\n",
      "4.879565235754016e-8 (residual) + 6.617444900424222e-24 (eps)\n",
      "WARNING: Problem solving for delta_x: predicted residual increase.\n",
      "8.199543310878874e-8 (predicted_residual) >\n",
      "8.004014906150942e-8 (residual) + 1.3234889800848443e-23 (eps)\n",
      "WARNING: Landmark 3: Skipping regression due to an awesome error while performing curve fitting\n",
      "WARNING: Problem solving for delta_x: predicted residual increase.\n",
      "0.00019827983600991515 (predicted_residual) >\n",
      "0.00019781725012555824 (residual) + 2.710505431213761e-20 (eps)\n",
      "WARNING: Problem solving for delta_x: predicted residual increase.\n",
      "0.00019694646518671395 (predicted_residual) >\n",
      "0.0001962879729609266 (residual) + 2.710505431213761e-20 (eps)\n",
      "WARNING: Problem solving for delta_x: predicted residual increase.\n",
      "0.00019670143127644118 (predicted_residual) >\n",
      "0.00019646700140798343 (residual) + 2.710505431213761e-20 (eps)\n",
      "WARNING: Problem solving for delta_x: predicted residual increase.\n",
      "0.00019703512754700963 (predicted_residual) >\n",
      "0.00019670163788542037 (residual) + 2.710505431213761e-20 (eps)\n",
      "WARNING: Problem solving for delta_x: predicted residual increase.\n",
      "0.00019743188052778057 (predicted_residual) >\n",
      "0.00019703440631128988 (residual) + 2.710505431213761e-20 (eps)\n",
      "WARNING: Problem solving for delta_x: predicted residual increase.\n",
      "0.00019804138513240162 (predicted_residual) >\n",
      "0.00019743305881745623 (residual) + 2.710505431213761e-20 (eps)\n",
      "WARNING: Problem solving for delta_x: predicted residual increase.\n",
      "0.00019636186842530775 (predicted_residual) >\n",
      "0.000196143570525361 (residual) + 2.710505431213761e-20 (eps)\n",
      "WARNING: Landmark 2: Skipping regression due to an awesome error while performing curve fitting\n",
      "WARNING: Problem solving for delta_x: predicted residual increase.\n",
      "0.00023705105004929097 (predicted_residual) >\n",
      "0.00023658780302463753 (residual) + 2.710505431213761e-20 (eps)\n",
      "WARNING: Problem solving for delta_x: predicted residual increase.\n",
      "0.0002362061286967652 (predicted_residual) >\n",
      "0.00023406845942532364 (residual) + 2.710505431213761e-20 (eps)\n",
      "WARNING: Problem solving for delta_x: predicted residual increase.\n",
      "0.00023183982497282523 (predicted_residual) >\n",
      "0.00023127115520435082 (residual) + 2.710505431213761e-20 (eps)\n",
      "WARNING: Landmark 16: Skipping regression due to an awesome error while performing curve fitting\n",
      "WARNING: Problem solving for delta_x: predicted residual increase.\n",
      "5.086886369544257e-5 (predicted_residual) >\n",
      "5.079233142871455e-5 (residual) + 6.776263578034403e-21 (eps)\n",
      "WARNING: Problem solving for delta_x: predicted residual increase.\n",
      "5.097624451808816e-5 (predicted_residual) >\n",
      "5.086969944244785e-5 (residual) + 6.776263578034403e-21 (eps)\n",
      "WARNING: Problem solving for delta_x: predicted residual increase.\n",
      "5.065067301670312e-5 (predicted_residual) >\n",
      "5.0361404158948016e-5 (residual) + 6.776263578034403e-21 (eps)\n",
      "WARNING: Problem solving for delta_x: predicted residual increase.\n",
      "4.977041570198677e-5 (predicted_residual) >\n",
      "4.9658733883508574e-5 (residual) + 6.776263578034403e-21 (eps)\n",
      "WARNING: Landmark 16: Skipping regression due to an awesome error while performing curve fitting\n",
      "WARNING: Problem solving for delta_x: predicted residual increase.\n",
      "0.06196034055539944 (predicted_residual) >\n",
      "0.06196034055539942 (residual) + 6.938893903907228e-18 (eps)\n",
      "WARNING: Problem solving for delta_x: predicted residual increase.\n",
      "4.984731036899992e-5 (predicted_residual) >\n",
      "4.9843815782205165e-5 (residual) + 6.776263578034403e-21 (eps)\n"
     ]
    },
    {
     "name": "stdout",
     "output_type": "stream",
     "text": [
      "400\n"
     ]
    },
    {
     "name": "stderr",
     "output_type": "stream",
     "text": [
      "WARNING: Landmark 16: Skipping regression due to an awesome error while performing curve fitting\n",
      "WARNING: Problem solving for delta_x: predicted residual increase.\n",
      "9.689776598736821e-11 (predicted_residual) >\n",
      "8.948132533862115e-11 (residual) + 1.2924697071141057e-26 (eps)\n",
      "WARNING: Problem solving for delta_x: predicted residual increase.\n",
      "1.0518504807583791e-10 (predicted_residual) >\n",
      "9.690371714379994e-11 (residual) + 1.2924697071141057e-26 (eps)\n",
      "WARNING: Problem solving for delta_x: predicted residual increase.\n",
      "1.057682967955684e-10 (predicted_residual) >\n",
      "1.046463426864003e-10 (residual) + 1.2924697071141057e-26 (eps)\n",
      "WARNING: Problem solving for delta_x: predicted residual increase.\n",
      "1.0601507396367237e-10 (predicted_residual) >\n",
      "1.0501687689858915e-10 (residual) + 1.2924697071141057e-26 (eps)\n",
      "WARNING: Problem solving for delta_x: predicted residual increase.\n",
      "1.0385317764325274e-10 (predicted_residual) >\n",
      "1.0305973003821524e-10 (residual) + 1.2924697071141057e-26 (eps)\n",
      "WARNING: Problem solving for delta_x: predicted residual increase.\n",
      "1.0372639311972102e-10 (predicted_residual) >\n",
      "1.0305648154876176e-10 (residual) + 1.2924697071141057e-26 (eps)\n",
      "WARNING: Problem solving for delta_x: predicted residual increase.\n",
      "1.0276816626817959e-10 (predicted_residual) >\n",
      "1.0190607658800393e-10 (residual) + 1.2924697071141057e-26 (eps)\n",
      "WARNING: Problem solving for delta_x: predicted residual increase.\n",
      "1.0355885094116972e-10 (predicted_residual) >\n",
      "1.0141144316377561e-10 (residual) + 1.2924697071141057e-26 (eps)\n",
      "WARNING: Problem solving for delta_x: predicted residual increase.\n",
      "9.37349693718086e-11 (predicted_residual) >\n",
      "8.66243540287484e-11 (residual) + 1.2924697071141057e-26 (eps)\n",
      "WARNING: Landmark 15: Skipping regression due to an awesome error while performing curve fitting\n",
      "WARNING: Problem solving for delta_x: predicted residual increase.\n",
      "3.575478591145312e-8 (predicted_residual) >\n",
      "3.479406523293721e-8 (residual) + 6.617444900424222e-24 (eps)\n",
      "WARNING: Landmark 2: Skipping regression due to an awesome error while performing curve fitting\n",
      "WARNING: Problem solving for delta_x: predicted residual increase.\n",
      "1.4151651879499464e-5 (predicted_residual) >\n",
      "1.4130617947541221e-5 (residual) + 1.6940658945086007e-21 (eps)\n",
      "WARNING: Problem solving for delta_x: predicted residual increase.\n",
      "1.3906458857144737e-5 (predicted_residual) >\n",
      "1.3897960538183554e-5 (residual) + 1.6940658945086007e-21 (eps)\n",
      "WARNING: Problem solving for delta_x: predicted residual increase.\n",
      "1.3870198190325968e-5 (predicted_residual) >\n",
      "1.3850300047405825e-5 (residual) + 1.6940658945086007e-21 (eps)\n",
      "WARNING: Problem solving for delta_x: predicted residual increase.\n",
      "1.3847980078630017e-5 (predicted_residual) >\n",
      "1.3842918211479104e-5 (residual) + 1.6940658945086007e-21 (eps)\n",
      "WARNING: Problem solving for delta_x: predicted residual increase.\n",
      "1.386934319512578e-5 (predicted_residual) >\n",
      "1.3835057193061714e-5 (residual) + 1.6940658945086007e-21 (eps)\n",
      "WARNING: Landmark 15: Skipping regression due to an awesome error while performing curve fitting\n",
      "WARNING: Problem solving for delta_x: predicted residual increase.\n",
      "6.246880851729668e-5 (predicted_residual) >\n",
      "6.208568472446727e-5 (residual) + 1.3552527156068805e-20 (eps)\n",
      "WARNING: Problem solving for delta_x: predicted residual increase.\n",
      "1.9837102154437097e-5 (predicted_residual) >\n",
      "1.980141376703483e-5 (residual) + 3.3881317890172014e-21 (eps)\n",
      "WARNING: Problem solving for delta_x: predicted residual increase.\n",
      "1.9874209549643073e-5 (predicted_residual) >\n",
      "1.9836983817534307e-5 (residual) + 3.3881317890172014e-21 (eps)\n",
      "WARNING: Problem solving for delta_x: predicted residual increase.\n",
      "1.9968711880363966e-5 (predicted_residual) >\n",
      "1.98744348253339e-5 (residual) + 3.3881317890172014e-21 (eps)\n",
      "WARNING: Problem solving for delta_x: predicted residual increase.\n",
      "2.0054012443840793e-5 (predicted_residual) >\n",
      "1.996852140653535e-5 (residual) + 3.3881317890172014e-21 (eps)\n",
      "WARNING: Problem solving for delta_x: predicted residual increase.\n",
      "1.9658735320292862e-5 (predicted_residual) >\n",
      "1.9655763247250155e-5 (residual) + 3.3881317890172014e-21 (eps)\n",
      "WARNING: Problem solving for delta_x: predicted residual increase.\n",
      "1.9648855169239457e-5 (predicted_residual) >\n",
      "1.9647756423916766e-5 (residual) + 3.3881317890172014e-21 (eps)\n",
      "WARNING: Problem solving for delta_x: predicted residual increase.\n",
      "1.9649670997388167e-5 (predicted_residual) >\n",
      "1.9648844774687105e-5 (residual) + 3.3881317890172014e-21 (eps)\n",
      "WARNING: Problem solving for delta_x: predicted residual increase.\n",
      "1.9650646775589323e-5 (predicted_residual) >\n",
      "1.9649680529077712e-5 (residual) + 3.3881317890172014e-21 (eps)\n",
      "WARNING: Problem solving for delta_x: predicted residual increase.\n",
      "1.9658146997821265e-5 (predicted_residual) >\n",
      "1.965063991666079e-5 (residual) + 3.3881317890172014e-21 (eps)\n",
      "WARNING: Problem solving for delta_x: predicted residual increase.\n",
      "1.9662338423095888e-5 (predicted_residual) >\n",
      "1.9658105351233238e-5 (residual) + 3.3881317890172014e-21 (eps)\n",
      "WARNING: Problem solving for delta_x: predicted residual increase.\n",
      "1.970256480676401e-5 (predicted_residual) >\n",
      "1.9662307347936776e-5 (residual) + 3.3881317890172014e-21 (eps)\n",
      "WARNING: Problem solving for delta_x: predicted residual increase.\n",
      "1.965463970226931e-5 (predicted_residual) >\n",
      "1.9646290090106248e-5 (residual) + 3.3881317890172014e-21 (eps)\n",
      "WARNING: Problem solving for delta_x: predicted residual increase.\n",
      "1.9643181476093577e-5 (predicted_residual) >\n",
      "1.9642697620692695e-5 (residual) + 3.3881317890172014e-21 (eps)\n",
      "WARNING: Landmark 15: Skipping regression due to an awesome error while performing curve fitting\n",
      "WARNING: Problem solving for delta_x: predicted residual increase.\n",
      "0.014115099114800193 (predicted_residual) >\n",
      "0.014115099114800186 (residual) + 1.734723475976807e-18 (eps)\n",
      "WARNING: Problem solving for delta_x: predicted residual increase.\n",
      "1.9585701279191955e-9 (predicted_residual) >\n",
      "1.9585701278351535e-9 (residual) + 4.1359030627651384e-25 (eps)\n",
      "WARNING: Landmark 5: Skipping regression due to an awesome error while performing curve fitting\n",
      "WARNING: Problem solving for delta_x: predicted residual increase.\n",
      "2.592280952357009e-5 (predicted_residual) >\n",
      "2.5664919761613236e-5 (residual) + 3.3881317890172014e-21 (eps)\n",
      "WARNING: Problem solving for delta_x: predicted residual increase.\n",
      "2.6568944482145312e-5 (predicted_residual) >\n",
      "2.5708810961991277e-5 (residual) + 3.3881317890172014e-21 (eps)\n",
      "WARNING: Problem solving for delta_x: predicted residual increase.\n",
      "2.7692889398891698e-5 (predicted_residual) >\n",
      "2.6568693175325913e-5 (residual) + 3.3881317890172014e-21 (eps)\n",
      "WARNING: Landmark 16: Skipping regression due to an awesome error while performing curve fitting\n",
      "WARNING: Problem solving for delta_x: predicted residual increase.\n",
      "0.14622966307026786 (predicted_residual) >\n",
      "0.14622966307026777 (residual) + 2.7755575615628914e-17 (eps)\n",
      "WARNING: Problem solving for delta_x: predicted residual increase.\n",
      "0.22625763137533234 (predicted_residual) >\n",
      "0.22625763137533225 (residual) + 2.7755575615628914e-17 (eps)\n",
      "WARNING: 460: Skipping due to some bizarre error while loading landmarks regression parameters.\n",
      "WARNING: Problem solving for delta_x: predicted residual increase.\n",
      "1.109814192564267e-5 (predicted_residual) >\n",
      "1.1098091218639568e-5 (residual) + 1.6940658945086007e-21 (eps)\n"
     ]
    },
    {
     "name": "stdout",
     "output_type": "stream",
     "text": [
      "500\n"
     ]
    },
    {
     "name": "stderr",
     "output_type": "stream",
     "text": [
      "WARNING: Landmark 3: Skipping regression due to an awesome error while performing curve fitting\n",
      "WARNING: Problem solving for delta_x: predicted residual increase.\n",
      "1.6837930219684986e-6 (predicted_residual) >\n",
      "1.5347958111671472e-6 (residual) + 2.117582368135751e-22 (eps)\n",
      "WARNING: Problem solving for delta_x: predicted residual increase.\n",
      "1.4416353915882134e-6 (predicted_residual) >\n",
      "1.439603241725903e-6 (residual) + 2.117582368135751e-22 (eps)\n",
      "WARNING: Problem solving for delta_x: predicted residual increase.\n",
      "1.4391254937030525e-6 (predicted_residual) >\n",
      "1.4391250795637721e-6 (residual) + 2.117582368135751e-22 (eps)\n",
      "WARNING: Landmark 15: Skipping regression due to an awesome error while performing curve fitting\n",
      "WARNING: Problem solving for delta_x: predicted residual increase.\n",
      "3.4233958809587176e-8 (predicted_residual) >\n",
      "3.4233876510835314e-8 (residual) + 6.617444900424222e-24 (eps)\n",
      "WARNING: Landmark 4: Skipping regression due to an awesome error while performing curve fitting\n",
      "WARNING: Problem solving for delta_x: predicted residual increase.\n",
      "1.1377298549779726e-6 (predicted_residual) >\n",
      "1.1120757605120643e-6 (residual) + 2.117582368135751e-22 (eps)\n",
      "WARNING: Problem solving for delta_x: predicted residual increase.\n",
      "1.1470516841008527e-6 (predicted_residual) >\n",
      "1.1377539155565412e-6 (residual) + 2.117582368135751e-22 (eps)\n",
      "WARNING: Landmark 15: Skipping regression due to an awesome error while performing curve fitting\n",
      "WARNING: Problem solving for delta_x: predicted residual increase.\n",
      "6.165609718906536e-6 (predicted_residual) >\n",
      "4.521833198283339e-6 (residual) + 8.470329472543003e-22 (eps)\n",
      "WARNING: Problem solving for delta_x: predicted residual increase.\n",
      "3.982639782662421e-6 (predicted_residual) >\n",
      "3.6734156399575105e-6 (residual) + 8.470329472543003e-22 (eps)\n",
      "WARNING: Problem solving for delta_x: predicted residual increase.\n",
      "4.591791699234754e-6 (predicted_residual) >\n",
      "3.784771921921588e-6 (residual) + 8.470329472543003e-22 (eps)\n",
      "WARNING: Problem solving for delta_x: predicted residual increase.\n",
      "5.094468961947176e-6 (predicted_residual) >\n",
      "4.592225143365345e-6 (residual) + 8.470329472543003e-22 (eps)\n",
      "WARNING: Problem solving for delta_x: predicted residual increase.\n",
      "6.133777431620437e-6 (predicted_residual) >\n",
      "5.09448940107295e-6 (residual) + 8.470329472543003e-22 (eps)\n",
      "WARNING: Landmark 16: Skipping regression due to an awesome error while performing curve fitting\n",
      "WARNING: Landmark 4: Skipping regression due to an awesome error while performing curve fitting\n",
      "WARNING: Problem solving for delta_x: predicted residual increase.\n",
      "2.2185580966992264e-9 (predicted_residual) >\n",
      "2.2184666658565977e-9 (residual) + 4.1359030627651384e-25 (eps)\n",
      "WARNING: Landmark 15: Skipping regression due to an awesome error while performing curve fitting\n",
      "WARNING: Problem solving for delta_x: predicted residual increase.\n",
      "0.0008685705970293279 (predicted_residual) >\n",
      "0.0008685705970293276 (residual) + 1.0842021724855044e-19 (eps)\n",
      "WARNING: Landmark 16: Skipping regression due to an awesome error while performing curve fitting\n",
      "WARNING: Problem solving for delta_x: predicted residual increase.\n",
      "3.554332488753236e-10 (predicted_residual) >\n",
      "1.9880924699081782e-10 (residual) + 5.169878828456423e-26 (eps)\n",
      "WARNING: Problem solving for delta_x: predicted residual increase.\n",
      "3.688722107686102e-10 (predicted_residual) >\n",
      "3.3659105561217204e-10 (residual) + 5.169878828456423e-26 (eps)\n",
      "WARNING: Landmark 3: Skipping regression due to an awesome error while performing curve fitting\n",
      "WARNING: Problem solving for delta_x: predicted residual increase.\n",
      "8.668101889775739e-11 (predicted_residual) >\n",
      "7.389884859403835e-11 (residual) + 1.2924697071141057e-26 (eps)\n",
      "WARNING: Landmark 4: Skipping regression due to an awesome error while performing curve fitting\n",
      "WARNING: Problem solving for delta_x: predicted residual increase.\n",
      "3.547381754950702e-10 (predicted_residual) >\n",
      "3.166147477251165e-10 (residual) + 5.169878828456423e-26 (eps)\n",
      "WARNING: Problem solving for delta_x: predicted residual increase.\n",
      "3.685990286926622e-10 (predicted_residual) >\n",
      "3.2868355148530783e-10 (residual) + 5.169878828456423e-26 (eps)\n",
      "WARNING: Problem solving for delta_x: predicted residual increase.\n",
      "3.612843577184962e-10 (predicted_residual) >\n",
      "2.9033406599590093e-10 (residual) + 5.169878828456423e-26 (eps)\n",
      "WARNING: Landmark 14: Skipping regression due to an awesome error while performing curve fitting\n",
      "WARNING: Problem solving for delta_x: predicted residual increase.\n",
      "1.7726633015877485e-10 (predicted_residual) >\n",
      "1.0142903515125744e-10 (residual) + 2.5849394142282115e-26 (eps)\n",
      "WARNING: Problem solving for delta_x: predicted residual increase.\n",
      "2.9821175280964755e-11 (predicted_residual) >\n",
      "2.4931575323252182e-11 (residual) + 6.462348535570529e-27 (eps)\n",
      "WARNING: Problem solving for delta_x: predicted residual increase.\n",
      "2.3751447916313738e-11 (predicted_residual) >\n",
      "2.3717514329229832e-11 (residual) + 3.2311742677852644e-27 (eps)\n",
      "WARNING: Problem solving for delta_x: predicted residual increase.\n",
      "2.3687158527044097e-11 (predicted_residual) >\n",
      "2.368526728535415e-11 (residual) + 3.2311742677852644e-27 (eps)\n",
      "WARNING: Landmark 15: Skipping regression due to an awesome error while performing curve fitting\n",
      "WARNING: Problem solving for delta_x: predicted residual increase.\n",
      "3.965851250601276e-10 (predicted_residual) >\n",
      "2.6414115094556886e-10 (residual) + 5.169878828456423e-26 (eps)\n",
      "WARNING: Problem solving for delta_x: predicted residual increase.\n",
      "2.516253655555016e-11 (predicted_residual) >\n",
      "2.5160433175666652e-11 (residual) + 3.2311742677852644e-27 (eps)\n",
      "WARNING: Problem solving for delta_x: predicted residual increase.\n",
      "5.1132980682490285e-8 (predicted_residual) >\n",
      "5.107323827598383e-8 (residual) + 6.617444900424222e-24 (eps)\n",
      "WARNING: Landmark 14: Skipping regression due to an awesome error while performing curve fitting\n",
      "WARNING: Problem solving for delta_x: predicted residual increase.\n",
      "0.0008812281456508772 (predicted_residual) >\n",
      "0.0008812281456508768 (residual) + 1.0842021724855044e-19 (eps)\n"
     ]
    },
    {
     "name": "stdout",
     "output_type": "stream",
     "text": [
      "--- Emotion ID: 1 ---\n",
      "--- Emotion ID: 2 ---\n",
      "--- Emotion ID: 3 ---\n",
      "--- Emotion ID: 4 ---\n",
      "--- Emotion ID: 5 ---\n",
      "--- Emotion ID: 6 ---\n",
      "--- Emotion ID: 7 ---\n",
      " 46"
     ]
    },
    {
     "data": {
      "text/plain": [
       "7-element Array{Any,1}:\n",
       " Support Vector Machine\n",
       "----------------------\n",
       "number of examples:       592\n",
       "number of features:       335\n",
       "kernel function:          linear\n",
       "\n",
       " Support Vector Machine\n",
       "----------------------\n",
       "number of examples:       592\n",
       "number of features:       335\n",
       "kernel function:          linear\n",
       "\n",
       " Support Vector Machine\n",
       "----------------------\n",
       "number of examples:       592\n",
       "number of features:       335\n",
       "kernel function:          linear\n",
       "\n",
       " Support Vector Machine\n",
       "----------------------\n",
       "number of examples:       592\n",
       "number of features:       335\n",
       "kernel function:          linear\n",
       "\n",
       " Support Vector Machine\n",
       "----------------------\n",
       "number of examples:       592\n",
       "number of features:       335\n",
       "kernel function:          linear\n",
       "\n",
       " Support Vector Machine\n",
       "----------------------\n",
       "number of examples:       592\n",
       "number of features:       335\n",
       "kernel function:          linear\n",
       "\n",
       " Support Vector Machine\n",
       "----------------------\n",
       "number of examples:       592\n",
       "number of features:       335\n",
       "kernel function:          linear\n"
      ]
     },
     "execution_count": 55,
     "metadata": {},
     "output_type": "execute_result"
    },
    {
     "name": "stdout",
     "output_type": "stream",
     "text": [
      ".812787 seconds (109.97 M allocations: 13.634 GB, 5.24% gc time)\n"
     ]
    }
   ],
   "source": [
    "using RegERMs\n",
    "function trainCKPlus(dir, debug = false)\n",
    "    # Train Emotions\n",
    "    S, P = loadTrainningSamples(dir);\n",
    "    esvm = []\n",
    "    for e in 1:7\n",
    "        println(\"--- Emotion ID: $e ---\")\n",
    "        X, Y = parseSVM_XY(\"$dir/Emotion\", S, P, e)\n",
    "        push!(esvm, SVM(X, Y))\n",
    "    end\n",
    "    return esvm\n",
    "end\n",
    "@time esvm = trainCKPlus(\"/home/data/ckplus\", true)"
   ]
  },
  {
   "cell_type": "code",
   "execution_count": null,
   "metadata": {
    "collapsed": true
   },
   "outputs": [],
   "source": []
  }
 ],
 "metadata": {
  "kernelspec": {
   "display_name": "Julia 0.4.1",
   "language": "julia",
   "name": "julia-0.4"
  },
  "language_info": {
   "file_extension": ".jl",
   "mimetype": "application/julia",
   "name": "julia",
   "version": "0.4.1"
  }
 },
 "nbformat": 4,
 "nbformat_minor": 0
}
