{
 "cells": [
  {
   "cell_type": "markdown",
   "metadata": {},
   "source": [
    "# Landmarks Path Computation\n",
    "In this notebook, we train emotion models using the CK+ dataset.\n",
    "\n",
    "The idea is basicaly to compute the normalized landmarks paths over a sequence of images.\n",
    "\n",
    "These landmarks are provided by the dataset, where it was computed using AAM.\n",
    "\n",
    "To achieve normalization, it is computed the distance of each landmark point to a reference point (nose), and it is diveded by the distance between eyes."
   ]
  },
  {
   "cell_type": "code",
   "execution_count": 39,
   "metadata": {
    "collapsed": false
   },
   "outputs": [],
   "source": [
    "# Database parser\n",
    "getLandmarkDots(filename) = map((x)->parse(x), split(readall(filename), ['\\n', ' '], limit=0, keep=false));\n",
    "getLandmarkPoint(id, dots) = [dots[id*2-1], dots[id*2]];"
   ]
  },
  {
   "cell_type": "code",
   "execution_count": 28,
   "metadata": {
    "collapsed": false,
    "scrolled": false
   },
   "outputs": [
    {
     "data": {
      "text/plain": [
       "136-element Array{Float64,1}:\n",
       " 181.333\n",
       " 191.839\n",
       " 183.712\n",
       " 221.229\n",
       " 186.614\n",
       " 250.323\n",
       " 190.084\n",
       " 279.266\n",
       " 199.901\n",
       " 306.639\n",
       " 218.007\n",
       " 329.651\n",
       " 242.417\n",
       "   ⋮    \n",
       " 297.656\n",
       " 283.435\n",
       " 313.561\n",
       " 284.371\n",
       " 328.846\n",
       " 288.721\n",
       " 313.387\n",
       " 285.161\n",
       " 297.658\n",
       " 284.29 \n",
       " 282.178\n",
       " 282.546"
      ]
     },
     "execution_count": 28,
     "metadata": {},
     "output_type": "execute_result"
    }
   ],
   "source": [
    "dots = getLandmarkDots(\"/home/data/ckplus/Landmarks/S100/001/S100_001_00000001_landmarks.txt\")"
   ]
  },
  {
   "cell_type": "code",
   "execution_count": 82,
   "metadata": {
    "collapsed": false
   },
   "outputs": [
    {
     "data": {
      "text/plain": [
       "2-element Array{Float64,1}:\n",
       " 181.333\n",
       " 191.839"
      ]
     },
     "execution_count": 82,
     "metadata": {},
     "output_type": "execute_result"
    }
   ],
   "source": [
    "# Reference Point: nose\n",
    "referenceID = 1\n",
    "referencePoint = getLandmarkPoint(referenceID, dots) # FIXME: nose id"
   ]
  },
  {
   "cell_type": "code",
   "execution_count": 83,
   "metadata": {
    "collapsed": false
   },
   "outputs": [
    {
     "name": "stdout",
     "output_type": "stream",
     "text": [
      "29.23830290884887\n"
     ]
    }
   ],
   "source": [
    "# Reference Size: distance between eyes\n",
    "using Distances\n",
    "referenceSize = evaluate(Euclidean(), getLandmarkPoint(2, dots), getLandmarkPoint(3, dots))\n",
    "println(referenceSize)\n",
    "if referenceSize < 1.0 error(\"Distance between eyes less than one.\") end"
   ]
  },
  {
   "cell_type": "code",
   "execution_count": 88,
   "metadata": {
    "collapsed": false
   },
   "outputs": [
    {
     "name": "stdout",
     "output_type": "stream",
     "text": [
      "Any[0.08134740266611663,1.0051650429787915,0.18062471055396567,2.000224848286262,0.2992971249829816,2.9901280615551995,0.6350546424628667,3.92634861051584,1.2543207488592198,4.71339292262041,2.089172555275539,5.247974907379503,3.0043378466201958,5.6528253543053255,3.9834298988930423,5.801418109963694,4.991184353447329,5.7130641446855615,5.953070208713177,5.42915984196737,6.815340501164723,4.928223790868204,7.459340943280032,4.153005062521963,7.932539406375942,3.276166893086317,8.210568881114703,2.3028942620203177,8.452122230569282,1.325223974893333,8.551363968677201,0.33769572846896573,0.8057762474603062,-1.6212052439491675,1.3400353680631105,-1.8910023667367764,1.9289577160420932,-1.9773281705246604,2.529699149454226,-1.9411629387977538,3.092291651874115,-1.7517487304127692,5.388228943764046,-1.7618088218249481,5.977911253771922,-1.82269744472314,6.563226347242024,-1.8033580869716725,7.129604295087561,-1.6290685594335432,7.634764941587666,-1.338892346865738,4.119534241624769,-0.7654558498067471,4.10008954260197,-0.21143327023023128,4.072182998144046,0.34125065435929625,4.008746005724126,0.8864283293322105,3.3137566260960036,1.7829581341474798,3.6389659937410146,1.8976374987622162,3.978540422221099,1.9340397483496194,4.320089315504426,1.9261049512882693,4.653392176152015,1.8837533139904274,1.6620776572258744,-0.6445507476528832,2.129968356718549,-0.9113541946354052,2.6608363776289696,-0.8356497323449451,3.0418588341898247,-0.4631308473072083,2.551514369099104,-0.31870386010604657,2.0514378070092123,-0.341470229346942,5.358378032008978,-0.3622761564863012,5.830096587049526,-0.7365047850804893,6.425684506577157,-0.7456633193782845,6.8390604141214375,-0.33203876539160637,6.356960955615112,-0.10478138931493156,5.8257505755728625,-0.1177735934515487,2.609286190030913,3.172555886337933,3.0220697239325096,2.8480969042426043,3.485878791178195,2.620654496906869,3.9684095332661755,2.749840175425059,4.494114805829997,2.661504679071121,4.940639012132299,2.9773407256702966,5.357499732058395,3.3336801490794015,4.939296252939935,3.6067315647135083,4.453525582724274,3.7054089745821503,3.9583169502280984,3.6860138680409853,3.4619823973902863,3.6499806549203573,2.99992343172059,3.4710431147932725,2.9317696812716565,3.182718924901642,3.4555487134454133,3.091877469148196,3.978428240607475,3.1327385958601184,4.522419458209447,3.1647466095576835,5.045176201227325,3.3135141359616727,4.5164745167215,3.1917669876713837,3.9784949339448428,3.161977981014078,3.4490780916521513,3.102326434019805]"
     ]
    }
   ],
   "source": [
    "# Normalized vector\n",
    "normalizedVector = []\n",
    "for id = 1:int(length(dots) / 2)\n",
    "    if id == referenceID; continue end\n",
    "    append!(normalizedVector, (getLandmarkPoint(id, dots) - referencePoint) / referenceSize)\n",
    "end\n",
    "show(normalizedVector)"
   ]
  },
  {
   "cell_type": "code",
   "execution_count": 90,
   "metadata": {
    "collapsed": false
   },
   "outputs": [
    {
     "name": "stdout",
     "output_type": "stream",
     "text": [
      "17-Dec 20:33:30:INFO:root:Precompiling module StatsBase...\n",
      "17-Dec 20:33:35:INFO:root:Precompiling module Optim...\n"
     ]
    },
    {
     "name": "stderr",
     "output_type": "stream",
     "text": [
      "WARNING: using RegERMs.values in module Main conflicts with an existing identifier.\n",
      "WARNING: using RegERMs.gradient in module Main conflicts with an existing identifier.\n",
      "WARNING: using RegERMs.apply in module Main conflicts with an existing identifier.\n"
     ]
    }
   ],
   "source": [
    "using RegERMs"
   ]
  },
  {
   "cell_type": "code",
   "execution_count": null,
   "metadata": {
    "collapsed": true
   },
   "outputs": [],
   "source": []
  }
 ],
 "metadata": {
  "kernelspec": {
   "display_name": "Julia 0.4.1",
   "language": "julia",
   "name": "julia-0.4"
  },
  "language_info": {
   "file_extension": ".jl",
   "mimetype": "application/julia",
   "name": "julia",
   "version": "0.4.1"
  }
 },
 "nbformat": 4,
 "nbformat_minor": 0
}
