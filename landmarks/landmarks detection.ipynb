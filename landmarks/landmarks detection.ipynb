{
 "cells": [
  {
   "cell_type": "code",
   "execution_count": 1,
   "metadata": {
    "collapsed": false
   },
   "outputs": [
    {
     "name": "stdout",
     "output_type": "stream",
     "text": [
      "Number of faces detected: 7\n",
      "number of parts: 68\n",
      "pixel position of first part:  (200, 417)\n",
      "pixel position of second part: (200, 424)\n",
      "number of parts: 68\n",
      "pixel position of first part:  (403, 214)\n",
      "pixel position of second part: (403, 220)\n",
      "number of parts: 68\n",
      "pixel position of first part:  (599, 204)\n",
      "pixel position of second part: (599, 211)\n",
      "number of parts: 68\n",
      "pixel position of first part:  (330, 263)\n",
      "pixel position of second part: (330, 269)\n",
      "number of parts: 68\n",
      "pixel position of first part:  (372, 451)\n",
      "pixel position of second part: (370, 457)\n",
      "number of parts: 68\n",
      "pixel position of first part:  (788, 216)\n",
      "pixel position of second part: (787, 224)\n",
      "number of parts: 68\n",
      "pixel position of first part:  (645, 494)\n",
      "pixel position of second part: (640, 501)\n"
     ]
    }
   ],
   "source": [
    "a = ccall((:getFacialLandmarks,\"./build/liblandmarks.so\"), Void,\n",
    "(Ptr{Cchar}, Ptr{Cchar},), \"../model/shape_predictor_68_face_landmarks.dat\", \"../sample/test.jpg\")"
   ]
  },
  {
   "cell_type": "code",
   "execution_count": 4,
   "metadata": {
    "collapsed": false,
    "scrolled": true
   },
   "outputs": [
    {
     "data": {
      "text/plain": [
       "Ptr{UInt8} @0x0000000000000000"
      ]
     },
     "execution_count": 4,
     "metadata": {},
     "output_type": "execute_result"
    }
   ],
   "source": []
  },
  {
   "cell_type": "code",
   "execution_count": null,
   "metadata": {
    "collapsed": true
   },
   "outputs": [],
   "source": []
  }
 ],
 "metadata": {
  "kernelspec": {
   "display_name": "Julia 0.4.1",
   "language": "julia",
   "name": "julia-0.4"
  },
  "language_info": {
   "file_extension": ".jl",
   "mimetype": "application/julia",
   "name": "julia",
   "version": "0.4.1"
  }
 },
 "nbformat": 4,
 "nbformat_minor": 0
}
